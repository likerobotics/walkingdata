{
 "cells": [
  {
   "cell_type": "markdown",
   "metadata": {},
   "source": [
    "## Исследование колебаний root во время ходьбы"
   ]
  },
  {
   "cell_type": "code",
   "execution_count": 1,
   "metadata": {},
   "outputs": [],
   "source": [
    "import os\n",
    "import pandas as pd\n",
    "import numpy as np\n",
    "from scipy import stats\n",
    "\n",
    "import matplotlib.pyplot as plt\n",
    "%matplotlib inline\n",
    "import seaborn as sns\n",
    "plt.style.use('ggplot')\n",
    "\n",
    "import plotly.plotly as py\n",
    "import plotly.graph_objs as go"
   ]
  },
  {
   "cell_type": "markdown",
   "metadata": {},
   "source": [
    "Read in all data"
   ]
  },
  {
   "cell_type": "code",
   "execution_count": 2,
   "metadata": {},
   "outputs": [],
   "source": [
    "data_path = '../output/parsed_data/'\n",
    "flnms = os.listdir(data_path)\n",
    "\n",
    "df = pd.DataFrame()\n",
    "\n",
    "for fl in flnms:\n",
    "    d = pd.read_csv(data_path + fl)\n",
    "    d = d[d['frame'] > 10]\n",
    "    df = pd.concat([df, d])"
   ]
  },
  {
   "cell_type": "code",
   "execution_count": 3,
   "metadata": {},
   "outputs": [
    {
     "data": {
      "text/plain": [
       "(25341, 476)"
      ]
     },
     "execution_count": 3,
     "metadata": {},
     "output_type": "execute_result"
    }
   ],
   "source": [
    "df.shape"
   ]
  },
  {
   "cell_type": "markdown",
   "metadata": {},
   "source": [
    "Интересна ось 0 (по ширине шага)"
   ]
  },
  {
   "cell_type": "code",
   "execution_count": 4,
   "metadata": {},
   "outputs": [
    {
     "data": {
      "text/plain": [
       "Index(['root_coord_0', 'root_coord_1', 'root_coord_2', 'root_norm_coord_0',\n",
       "       'root_norm_coord_1', 'root_norm_coord_2', 'root_angle_0',\n",
       "       'root_angle_1', 'root_angle_2', 'root_norm_angle_0',\n",
       "       ...\n",
       "       'amc_path', 'person', 'heel_strike_l', 'toe_off_l', 'phases_l',\n",
       "       'heel_strike_r', 'toe_off_r', 'phases_r', 'support', 'support_cat'],\n",
       "      dtype='object', length=476)"
      ]
     },
     "execution_count": 4,
     "metadata": {},
     "output_type": "execute_result"
    }
   ],
   "source": [
    "df.columns"
   ]
  },
  {
   "cell_type": "code",
   "execution_count": 37,
   "metadata": {},
   "outputs": [],
   "source": [
    "cols = [\n",
    "    'root_coord_1',\n",
    "    'root_norm_coord_1',\n",
    "    'frame',\n",
    "    'amc_path',\n",
    "    'phases_l',\n",
    "    'phases_r',\n",
    "    'support'\n",
    "]\n",
    "cols_sec = [\n",
    "    'ltibia_norm_coord_0',\n",
    "    'rtibia_norm_coord_0',\n",
    "    'frame',\n",
    "    'amc_path',\n",
    "    'phases_l',\n",
    "    'phases_r',\n",
    "    'support'\n",
    "]"
   ]
  },
  {
   "cell_type": "code",
   "execution_count": 38,
   "metadata": {},
   "outputs": [],
   "source": [
    "df_data = df[cols]\n",
    "df_data_sec = df[cols_sec]"
   ]
  },
  {
   "cell_type": "code",
   "execution_count": 40,
   "metadata": {},
   "outputs": [],
   "source": [
    "def dm_to_sm(a):\n",
    "    b = a / 0.45 * 2.54\n",
    "    return b\n",
    "\n",
    "## перевод в см\n",
    "df_data.loc[:, 'root_coord_1'] = df_data.loc[:, 'root_coord_1'].apply(dm_to_sm)\n",
    "\n",
    "## перевод в см\n",
    "df_data_sec.loc[:, 'ltibia_norm_coord_0'] = df_data_sec.loc[:, 'ltibia_norm_coord_0'].apply(dm_to_sm)\n",
    "df_data_sec.loc[:, 'rtibia_norm_coord_0'] = df_data_sec.loc[:, 'rtibia_norm_coord_0'].apply(dm_to_sm)"
   ]
  },
  {
   "cell_type": "code",
   "execution_count": 41,
   "metadata": {},
   "outputs": [],
   "source": [
    "# df_data.root_coord_1.hist()"
   ]
  },
  {
   "cell_type": "code",
   "execution_count": 42,
   "metadata": {},
   "outputs": [
    {
     "data": {
      "text/html": [
       "<div>\n",
       "<style scoped>\n",
       "    .dataframe tbody tr th:only-of-type {\n",
       "        vertical-align: middle;\n",
       "    }\n",
       "\n",
       "    .dataframe tbody tr th {\n",
       "        vertical-align: top;\n",
       "    }\n",
       "\n",
       "    .dataframe thead th {\n",
       "        text-align: right;\n",
       "    }\n",
       "</style>\n",
       "<table border=\"1\" class=\"dataframe\">\n",
       "  <thead>\n",
       "    <tr style=\"text-align: right;\">\n",
       "      <th></th>\n",
       "      <th>ltibia_norm_coord_0</th>\n",
       "      <th>rtibia_norm_coord_0</th>\n",
       "      <th>frame</th>\n",
       "      <th>amc_path</th>\n",
       "      <th>phases_l</th>\n",
       "      <th>phases_r</th>\n",
       "      <th>support</th>\n",
       "    </tr>\n",
       "  </thead>\n",
       "  <tbody>\n",
       "    <tr>\n",
       "      <th>11</th>\n",
       "      <td>-2.391325</td>\n",
       "      <td>2.224104</td>\n",
       "      <td>11</td>\n",
       "      <td>02_01.amc</td>\n",
       "      <td>heel_strike</td>\n",
       "      <td>toe_off</td>\n",
       "      <td>ds</td>\n",
       "    </tr>\n",
       "    <tr>\n",
       "      <th>12</th>\n",
       "      <td>-2.287779</td>\n",
       "      <td>1.960920</td>\n",
       "      <td>12</td>\n",
       "      <td>02_01.amc</td>\n",
       "      <td>heel_strike</td>\n",
       "      <td>toe_off</td>\n",
       "      <td>ds</td>\n",
       "    </tr>\n",
       "    <tr>\n",
       "      <th>13</th>\n",
       "      <td>-2.190264</td>\n",
       "      <td>1.729526</td>\n",
       "      <td>13</td>\n",
       "      <td>02_01.amc</td>\n",
       "      <td>NaN</td>\n",
       "      <td>toe_off</td>\n",
       "      <td>ds</td>\n",
       "    </tr>\n",
       "    <tr>\n",
       "      <th>14</th>\n",
       "      <td>-2.100436</td>\n",
       "      <td>1.495333</td>\n",
       "      <td>14</td>\n",
       "      <td>02_01.amc</td>\n",
       "      <td>NaN</td>\n",
       "      <td>toe_off</td>\n",
       "      <td>ds</td>\n",
       "    </tr>\n",
       "    <tr>\n",
       "      <th>15</th>\n",
       "      <td>-2.078251</td>\n",
       "      <td>1.175375</td>\n",
       "      <td>15</td>\n",
       "      <td>02_01.amc</td>\n",
       "      <td>NaN</td>\n",
       "      <td>toe_off</td>\n",
       "      <td>ds</td>\n",
       "    </tr>\n",
       "  </tbody>\n",
       "</table>\n",
       "</div>"
      ],
      "text/plain": [
       "    ltibia_norm_coord_0  rtibia_norm_coord_0  frame   amc_path     phases_l  \\\n",
       "11            -2.391325             2.224104     11  02_01.amc  heel_strike   \n",
       "12            -2.287779             1.960920     12  02_01.amc  heel_strike   \n",
       "13            -2.190264             1.729526     13  02_01.amc          NaN   \n",
       "14            -2.100436             1.495333     14  02_01.amc          NaN   \n",
       "15            -2.078251             1.175375     15  02_01.amc          NaN   \n",
       "\n",
       "   phases_r support  \n",
       "11  toe_off      ds  \n",
       "12  toe_off      ds  \n",
       "13  toe_off      ds  \n",
       "14  toe_off      ds  \n",
       "15  toe_off      ds  "
      ]
     },
     "execution_count": 42,
     "metadata": {},
     "output_type": "execute_result"
    }
   ],
   "source": [
    "df_data_sec.head()"
   ]
  },
  {
   "cell_type": "code",
   "execution_count": 20,
   "metadata": {},
   "outputs": [],
   "source": [
    "ph_amc_agg = df_data.groupby(['amc_path']).agg({'root_coord_1': ['min', 'max']})\n",
    "ph_amc_agg.columns = ['min_height', 'max_height']\n",
    "ph_amc_agg.reset_index(inplace=True)"
   ]
  },
  {
   "cell_type": "code",
   "execution_count": 23,
   "metadata": {},
   "outputs": [
    {
     "name": "stderr",
     "output_type": "stream",
     "text": [
      "C:\\ProgramData\\Anaconda3\\lib\\site-packages\\scipy\\stats\\stats.py:1713: FutureWarning:\n",
      "\n",
      "Using a non-tuple sequence for multidimensional indexing is deprecated; use `arr[tuple(seq)]` instead of `arr[seq]`. In the future this will be interpreted as an array index, `arr[np.array(seq)]`, which will result either in an error or a different result.\n",
      "\n"
     ]
    },
    {
     "data": {
      "text/plain": [
       "<matplotlib.axes._subplots.AxesSubplot at 0x1c4ca86db00>"
      ]
     },
     "execution_count": 23,
     "metadata": {},
     "output_type": "execute_result"
    },
    {
     "data": {
      "image/png": "[encoded data removed]",
      "text/plain": [
       "<Figure size 432x288 with 1 Axes>"
      ]
     },
     "metadata": {
      "needs_background": "light"
     },
     "output_type": "display_data"
    }
   ],
   "source": [
    "sns.distplot(ph_amc_agg['min_height'])"
   ]
  },
  {
   "cell_type": "code",
   "execution_count": 24,
   "metadata": {},
   "outputs": [
    {
     "data": {
      "text/plain": [
       "<matplotlib.axes._subplots.AxesSubplot at 0x1c4ca4ff518>"
      ]
     },
     "execution_count": 24,
     "metadata": {},
     "output_type": "execute_result"
    },
    {
     "data": {
      "image/png": "[encoded data removed]",
      "text/plain": [
       "<Figure size 432x288 with 1 Axes>"
      ]
     },
     "metadata": {
      "needs_background": "light"
     },
     "output_type": "display_data"
    }
   ],
   "source": [
    "sns.distplot(ph_amc_agg['max_height'])"
   ]
  },
  {
   "cell_type": "code",
   "execution_count": 27,
   "metadata": {},
   "outputs": [
    {
     "data": {
      "text/html": [
       "<div>\n",
       "<style scoped>\n",
       "    .dataframe tbody tr th:only-of-type {\n",
       "        vertical-align: middle;\n",
       "    }\n",
       "\n",
       "    .dataframe tbody tr th {\n",
       "        vertical-align: top;\n",
       "    }\n",
       "\n",
       "    .dataframe thead th {\n",
       "        text-align: right;\n",
       "    }\n",
       "</style>\n",
       "<table border=\"1\" class=\"dataframe\">\n",
       "  <thead>\n",
       "    <tr style=\"text-align: right;\">\n",
       "      <th></th>\n",
       "      <th>amc_path</th>\n",
       "      <th>min_height</th>\n",
       "      <th>max_height</th>\n",
       "      <th>diff</th>\n",
       "    </tr>\n",
       "  </thead>\n",
       "  <tbody>\n",
       "    <tr>\n",
       "      <th>0</th>\n",
       "      <td>02_01.amc</td>\n",
       "      <td>93.260333</td>\n",
       "      <td>100.455871</td>\n",
       "      <td>7.195538</td>\n",
       "    </tr>\n",
       "    <tr>\n",
       "      <th>1</th>\n",
       "      <td>02_02.amc</td>\n",
       "      <td>89.622489</td>\n",
       "      <td>99.134507</td>\n",
       "      <td>9.512018</td>\n",
       "    </tr>\n",
       "    <tr>\n",
       "      <th>2</th>\n",
       "      <td>05_01.amc</td>\n",
       "      <td>92.018556</td>\n",
       "      <td>96.310591</td>\n",
       "      <td>4.292036</td>\n",
       "    </tr>\n",
       "    <tr>\n",
       "      <th>3</th>\n",
       "      <td>06_01.amc</td>\n",
       "      <td>99.442129</td>\n",
       "      <td>104.349973</td>\n",
       "      <td>4.907844</td>\n",
       "    </tr>\n",
       "    <tr>\n",
       "      <th>4</th>\n",
       "      <td>07_01.amc</td>\n",
       "      <td>90.203867</td>\n",
       "      <td>98.812773</td>\n",
       "      <td>8.608907</td>\n",
       "    </tr>\n",
       "  </tbody>\n",
       "</table>\n",
       "</div>"
      ],
      "text/plain": [
       "    amc_path  min_height  max_height      diff\n",
       "0  02_01.amc   93.260333  100.455871  7.195538\n",
       "1  02_02.amc   89.622489   99.134507  9.512018\n",
       "2  05_01.amc   92.018556   96.310591  4.292036\n",
       "3  06_01.amc   99.442129  104.349973  4.907844\n",
       "4  07_01.amc   90.203867   98.812773  8.608907"
      ]
     },
     "execution_count": 27,
     "metadata": {},
     "output_type": "execute_result"
    }
   ],
   "source": [
    "ph_amc_agg.head()"
   ]
  },
  {
   "cell_type": "code",
   "execution_count": 26,
   "metadata": {},
   "outputs": [],
   "source": [
    "ph_amc_agg['diff'] = ph_amc_agg['max_height'] - ph_amc_agg['min_height']\n"
   ]
  },
  {
   "cell_type": "code",
   "execution_count": 28,
   "metadata": {},
   "outputs": [
    {
     "data": {
      "text/plain": [
       "<matplotlib.axes._subplots.AxesSubplot at 0x1c4c97aadd8>"
      ]
     },
     "execution_count": 28,
     "metadata": {},
     "output_type": "execute_result"
    },
    {
     "data": {
      "image/png": "[encoded data removed]",
      "text/plain": [
       "<Figure size 432x288 with 1 Axes>"
      ]
     },
     "metadata": {
      "needs_background": "light"
     },
     "output_type": "display_data"
    }
   ],
   "source": [
    "sns.distplot(ph_amc_agg['diff'])"
   ]
  },
  {
   "cell_type": "code",
   "execution_count": 30,
   "metadata": {},
   "outputs": [],
   "source": [
    "d = df_data[df_data['amc_path'] == '02_01.amc']"
   ]
  },
  {
   "cell_type": "code",
   "execution_count": 31,
   "metadata": {},
   "outputs": [
    {
     "data": {
      "text/html": [
       "<div>\n",
       "<style scoped>\n",
       "    .dataframe tbody tr th:only-of-type {\n",
       "        vertical-align: middle;\n",
       "    }\n",
       "\n",
       "    .dataframe tbody tr th {\n",
       "        vertical-align: top;\n",
       "    }\n",
       "\n",
       "    .dataframe thead th {\n",
       "        text-align: right;\n",
       "    }\n",
       "</style>\n",
       "<table border=\"1\" class=\"dataframe\">\n",
       "  <thead>\n",
       "    <tr style=\"text-align: right;\">\n",
       "      <th></th>\n",
       "      <th>root_coord_1</th>\n",
       "      <th>frame</th>\n",
       "      <th>amc_path</th>\n",
       "      <th>phases_l</th>\n",
       "      <th>phases_r</th>\n",
       "      <th>support</th>\n",
       "    </tr>\n",
       "  </thead>\n",
       "  <tbody>\n",
       "    <tr>\n",
       "      <th>11</th>\n",
       "      <td>93.260333</td>\n",
       "      <td>11</td>\n",
       "      <td>02_01.amc</td>\n",
       "      <td>heel_strike</td>\n",
       "      <td>toe_off</td>\n",
       "      <td>ds</td>\n",
       "    </tr>\n",
       "    <tr>\n",
       "      <th>12</th>\n",
       "      <td>93.320729</td>\n",
       "      <td>12</td>\n",
       "      <td>02_01.amc</td>\n",
       "      <td>heel_strike</td>\n",
       "      <td>toe_off</td>\n",
       "      <td>ds</td>\n",
       "    </tr>\n",
       "    <tr>\n",
       "      <th>13</th>\n",
       "      <td>93.363627</td>\n",
       "      <td>13</td>\n",
       "      <td>02_01.amc</td>\n",
       "      <td>NaN</td>\n",
       "      <td>toe_off</td>\n",
       "      <td>ds</td>\n",
       "    </tr>\n",
       "    <tr>\n",
       "      <th>14</th>\n",
       "      <td>93.352338</td>\n",
       "      <td>14</td>\n",
       "      <td>02_01.amc</td>\n",
       "      <td>NaN</td>\n",
       "      <td>toe_off</td>\n",
       "      <td>ds</td>\n",
       "    </tr>\n",
       "    <tr>\n",
       "      <th>15</th>\n",
       "      <td>93.311698</td>\n",
       "      <td>15</td>\n",
       "      <td>02_01.amc</td>\n",
       "      <td>NaN</td>\n",
       "      <td>toe_off</td>\n",
       "      <td>ds</td>\n",
       "    </tr>\n",
       "  </tbody>\n",
       "</table>\n",
       "</div>"
      ],
      "text/plain": [
       "    root_coord_1  frame   amc_path     phases_l phases_r support\n",
       "11     93.260333     11  02_01.amc  heel_strike  toe_off      ds\n",
       "12     93.320729     12  02_01.amc  heel_strike  toe_off      ds\n",
       "13     93.363627     13  02_01.amc          NaN  toe_off      ds\n",
       "14     93.352338     14  02_01.amc          NaN  toe_off      ds\n",
       "15     93.311698     15  02_01.amc          NaN  toe_off      ds"
      ]
     },
     "execution_count": 31,
     "metadata": {},
     "output_type": "execute_result"
    }
   ],
   "source": [
    "d.head()"
   ]
  },
  {
   "cell_type": "code",
   "execution_count": 32,
   "metadata": {},
   "outputs": [
    {
     "data": {
      "text/plain": [
       "[<matplotlib.lines.Line2D at 0x1c4c9c475f8>]"
      ]
     },
     "execution_count": 32,
     "metadata": {},
     "output_type": "execute_result"
    },
    {
     "data": {
      "image/png": "[encoded data removed]",
      "text/plain": [
       "<Figure size 432x288 with 1 Axes>"
      ]
     },
     "metadata": {
      "needs_background": "light"
     },
     "output_type": "display_data"
    }
   ],
   "source": [
    "plt.plot(d['frame'], d['root_coord_1'])"
   ]
  },
  {
   "cell_type": "code",
   "execution_count": 36,
   "metadata": {},
   "outputs": [
    {
     "data": {
      "text/plain": [
       "[<matplotlib.lines.Line2D at 0x1c4ca310f98>]"
      ]
     },
     "execution_count": 36,
     "metadata": {},
     "output_type": "execute_result"
    },
    {
     "data": {
      "image/png": "[encoded data removed]",
      "text/plain": [
       "<Figure size 432x288 with 1 Axes>"
      ]
     },
     "metadata": {
      "needs_background": "light"
     },
     "output_type": "display_data"
    }
   ],
   "source": [
    "plt.plot(df.loc[df['amc_path'] == '02_01.amc', 'frame'], df.loc[df['amc_path'] == '02_01.amc', 'root_norm_coord_1'])"
   ]
  },
  {
   "cell_type": "code",
   "execution_count": null,
   "metadata": {},
   "outputs": [],
   "source": []
  }
 ],
 "metadata": {
  "kernelspec": {
   "display_name": "Python 3",
   "language": "python",
   "name": "python3"
  },
  "language_info": {
   "codemirror_mode": {
    "name": "ipython",
    "version": 3
   },
   "file_extension": ".py",
   "mimetype": "text/x-python",
   "name": "python",
   "nbconvert_exporter": "python",
   "pygments_lexer": "ipython3",
   "version": "3.7.1"
  }
 },
 "nbformat": 4,
 "nbformat_minor": 2
}
