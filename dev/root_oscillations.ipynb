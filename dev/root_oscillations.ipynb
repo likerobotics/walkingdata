{
 "cells": [
  {
   "cell_type": "markdown",
   "metadata": {},
   "source": [
    "## Исследование колебаний root во время ходьбы"
   ]
  },
  {
   "cell_type": "code",
   "execution_count": 1,
   "metadata": {},
   "outputs": [],
   "source": [
    "import os\n",
    "import pandas as pd\n",
    "import numpy as np\n",
    "from scipy import stats\n",
    "\n",
    "import matplotlib.pyplot as plt\n",
    "%matplotlib inline\n",
    "import seaborn as sns\n",
    "plt.style.use('ggplot')\n",
    "\n",
    "import plotly.plotly as py\n",
    "import plotly.graph_objs as go"
   ]
  },
  {
   "cell_type": "markdown",
   "metadata": {},
   "source": [
    "Read in all data"
   ]
  },
  {
   "cell_type": "code",
   "execution_count": 2,
   "metadata": {},
   "outputs": [],
   "source": [
    "data_path = '../output/parsed_data/'\n",
    "flnms = os.listdir(data_path)\n",
    "\n",
    "df = pd.DataFrame()\n",
    "\n",
    "for fl in flnms:\n",
    "    d = pd.read_csv(data_path + fl)\n",
    "    d = d[d['frame'] > 10]\n",
    "    df = pd.concat([df, d])"
   ]
  },
  {
   "cell_type": "code",
   "execution_count": 3,
   "metadata": {},
   "outputs": [
    {
     "data": {
      "text/plain": [
       "(25341, 476)"
      ]
     },
     "execution_count": 3,
     "metadata": {},
     "output_type": "execute_result"
    }
   ],
   "source": [
    "df.shape"
   ]
  },
  {
   "cell_type": "markdown",
   "metadata": {},
   "source": [
    "Интересна ось 0 (по ширине шага)"
   ]
  },
  {
   "cell_type": "code",
   "execution_count": 7,
   "metadata": {},
   "outputs": [],
   "source": [
    "cols = [\n",
    "    'ltibia_norm_coord_1',\n",
    "    'rtibia_norm_coord_1',\n",
    "    'frame',\n",
    "    'amc_path',\n",
    "    'phases_l',\n",
    "    'phases_r',\n",
    "    'support'\n",
    "]"
   ]
  },
  {
   "cell_type": "code",
   "execution_count": 8,
   "metadata": {},
   "outputs": [],
   "source": [
    "df_data = df[cols]"
   ]
  },
  {
   "cell_type": "code",
   "execution_count": 9,
   "metadata": {},
   "outputs": [
    {
     "name": "stderr",
     "output_type": "stream",
     "text": [
      "C:\\ProgramData\\Anaconda3\\lib\\site-packages\\pandas\\core\\indexing.py:543: SettingWithCopyWarning:\n",
      "\n",
      "\n",
      "A value is trying to be set on a copy of a slice from a DataFrame.\n",
      "Try using .loc[row_indexer,col_indexer] = value instead\n",
      "\n",
      "See the caveats in the documentation: http://pandas.pydata.org/pandas-docs/stable/indexing.html#indexing-view-versus-copy\n",
      "\n"
     ]
    }
   ],
   "source": [
    "def dm_to_sm(a):\n",
    "    b = a / 0.45 * 2.54\n",
    "    return b\n",
    "\n",
    "## перевод в см\n",
    "df_data.loc[:, 'ltibia_norm_coord_1'] = df_data.loc[:, 'ltibia_norm_coord_1'].apply(dm_to_sm)\n",
    "df_data.loc[:, 'rtibia_norm_coord_1'] = df_data.loc[:, 'rtibia_norm_coord_1'].apply(dm_to_sm)"
   ]
  },
  {
   "cell_type": "code",
   "execution_count": 42,
   "metadata": {},
   "outputs": [
    {
     "name": "stderr",
     "output_type": "stream",
     "text": [
      "C:\\ProgramData\\Anaconda3\\lib\\site-packages\\ipykernel_launcher.py:1: SettingWithCopyWarning:\n",
      "\n",
      "\n",
      "A value is trying to be set on a copy of a slice from a DataFrame.\n",
      "Try using .loc[row_indexer,col_indexer] = value instead\n",
      "\n",
      "See the caveats in the documentation: http://pandas.pydata.org/pandas-docs/stable/indexing.html#indexing-view-versus-copy\n",
      "\n"
     ]
    }
   ],
   "source": [
    "df_data['tibia_min'] = df_data[['ltibia_norm_coord_1', 'rtibia_norm_coord_1']].min(axis=1)"
   ]
  },
  {
   "cell_type": "code",
   "execution_count": 43,
   "metadata": {},
   "outputs": [
    {
     "name": "stderr",
     "output_type": "stream",
     "text": [
      "C:\\ProgramData\\Anaconda3\\lib\\site-packages\\ipykernel_launcher.py:1: SettingWithCopyWarning:\n",
      "\n",
      "\n",
      "A value is trying to be set on a copy of a slice from a DataFrame.\n",
      "Try using .loc[row_indexer,col_indexer] = value instead\n",
      "\n",
      "See the caveats in the documentation: http://pandas.pydata.org/pandas-docs/stable/indexing.html#indexing-view-versus-copy\n",
      "\n"
     ]
    }
   ],
   "source": [
    "df_data['tibia_delta'] = 0\n",
    "df_data.loc[df_data['support'] == 'rss', 'tibia_delta'] = df_data.loc[df_data['support'] == 'rss', 'rtibia_norm_coord_1']\n",
    "df_data.loc[df_data['support'] == 'lss', 'tibia_delta'] = df_data.loc[df_data['support'] == 'lss','ltibia_norm_coord_1']\n",
    "df_data.loc[df_data['support'] == 'ds', 'tibia_delta'] = df_data.loc[df_data['support'] == 'ds','tibia_min']"
   ]
  },
  {
   "cell_type": "code",
   "execution_count": 44,
   "metadata": {},
   "outputs": [],
   "source": [
    "ph_amc_agg = df_data.groupby(['amc_path']).agg({'tibia_delta': ['min', 'max']})\n",
    "ph_amc_agg.columns = ['min_height', 'max_height']\n",
    "ph_amc_agg.reset_index(inplace=True)"
   ]
  },
  {
   "cell_type": "code",
   "execution_count": 48,
   "metadata": {},
   "outputs": [
    {
     "data": {
      "text/html": [
       "<div>\n",
       "<style scoped>\n",
       "    .dataframe tbody tr th:only-of-type {\n",
       "        vertical-align: middle;\n",
       "    }\n",
       "\n",
       "    .dataframe tbody tr th {\n",
       "        vertical-align: top;\n",
       "    }\n",
       "\n",
       "    .dataframe thead th {\n",
       "        text-align: right;\n",
       "    }\n",
       "</style>\n",
       "<table border=\"1\" class=\"dataframe\">\n",
       "  <thead>\n",
       "    <tr style=\"text-align: right;\">\n",
       "      <th></th>\n",
       "      <th>amc_path</th>\n",
       "      <th>min_height</th>\n",
       "      <th>max_height</th>\n",
       "    </tr>\n",
       "  </thead>\n",
       "  <tbody>\n",
       "    <tr>\n",
       "      <th>0</th>\n",
       "      <td>02_01.amc</td>\n",
       "      <td>-90.256423</td>\n",
       "      <td>-86.701264</td>\n",
       "    </tr>\n",
       "    <tr>\n",
       "      <th>1</th>\n",
       "      <td>02_02.amc</td>\n",
       "      <td>-89.796793</td>\n",
       "      <td>-84.403606</td>\n",
       "    </tr>\n",
       "    <tr>\n",
       "      <th>2</th>\n",
       "      <td>05_01.amc</td>\n",
       "      <td>-89.458936</td>\n",
       "      <td>-85.432935</td>\n",
       "    </tr>\n",
       "    <tr>\n",
       "      <th>3</th>\n",
       "      <td>06_01.amc</td>\n",
       "      <td>-95.125517</td>\n",
       "      <td>-89.854267</td>\n",
       "    </tr>\n",
       "    <tr>\n",
       "      <th>4</th>\n",
       "      <td>07_01.amc</td>\n",
       "      <td>-90.064270</td>\n",
       "      <td>-83.096942</td>\n",
       "    </tr>\n",
       "  </tbody>\n",
       "</table>\n",
       "</div>"
      ],
      "text/plain": [
       "    amc_path  min_height  max_height\n",
       "0  02_01.amc  -90.256423  -86.701264\n",
       "1  02_02.amc  -89.796793  -84.403606\n",
       "2  05_01.amc  -89.458936  -85.432935\n",
       "3  06_01.amc  -95.125517  -89.854267\n",
       "4  07_01.amc  -90.064270  -83.096942"
      ]
     },
     "execution_count": 48,
     "metadata": {},
     "output_type": "execute_result"
    }
   ],
   "source": [
    "ph_amc_agg.head()"
   ]
  },
  {
   "cell_type": "code",
   "execution_count": 49,
   "metadata": {},
   "outputs": [
    {
     "name": "stderr",
     "output_type": "stream",
     "text": [
      "C:\\ProgramData\\Anaconda3\\lib\\site-packages\\scipy\\stats\\stats.py:1713: FutureWarning:\n",
      "\n",
      "Using a non-tuple sequence for multidimensional indexing is deprecated; use `arr[tuple(seq)]` instead of `arr[seq]`. In the future this will be interpreted as an array index, `arr[np.array(seq)]`, which will result either in an error or a different result.\n",
      "\n"
     ]
    },
    {
     "data": {
      "text/plain": [
       "<matplotlib.axes._subplots.AxesSubplot at 0x2a9e51cc550>"
      ]
     },
     "execution_count": 49,
     "metadata": {},
     "output_type": "execute_result"
    },
    {
     "data": {
      "image/png": "[encoded data removed]",
      "text/plain": [
       "<Figure size 432x288 with 1 Axes>"
      ]
     },
     "metadata": {
      "needs_background": "light"
     },
     "output_type": "display_data"
    }
   ],
   "source": [
    "#for all persons\n",
    "ph_amc_agg['diff'] = ph_amc_agg['max_height'] - ph_amc_agg['min_height']\n",
    "\n",
    "sns.distplot(ph_amc_agg['diff'])"
   ]
  },
  {
   "cell_type": "code",
   "execution_count": 47,
   "metadata": {},
   "outputs": [
    {
     "data": {
      "text/plain": [
       "[<matplotlib.lines.Line2D at 0x2a9e5074198>]"
      ]
     },
     "execution_count": 47,
     "metadata": {},
     "output_type": "execute_result"
    },
    {
     "data": {
      "image/png": "[encoded data removed]",
      "text/plain": [
       "<Figure size 432x288 with 1 Axes>"
      ]
     },
     "metadata": {
      "needs_background": "light"
     },
     "output_type": "display_data"
    }
   ],
   "source": [
    "#for one person frint\n",
    "plt.plot(df.loc[df['amc_path'] == '02_01.amc', 'frame'], df_data.loc[df['amc_path'] == '02_01.amc', 'tibia_delta'])"
   ]
  },
  {
   "cell_type": "code",
   "execution_count": null,
   "metadata": {},
   "outputs": [],
   "source": []
  },
  {
   "cell_type": "code",
   "execution_count": null,
   "metadata": {},
   "outputs": [],
   "source": []
  },
  {
   "cell_type": "code",
   "execution_count": null,
   "metadata": {},
   "outputs": [],
   "source": []
  },
  {
   "cell_type": "code",
   "execution_count": null,
   "metadata": {},
   "outputs": [],
   "source": []
  },
  {
   "cell_type": "code",
   "execution_count": 20,
   "metadata": {
    "collapsed": true
   },
   "outputs": [],
   "source": [
    "ph_amc_agg = df_data.groupby(['amc_path', 'support']).agg({'tibia_delta': ['mean', 'std']})\n",
    "ph_amc_agg.columns = ['mean_tibia_delta', 'sd_tibia_delta']\n",
    "ph_amc_agg.reset_index(inplace=True)"
   ]
  },
  {
   "cell_type": "code",
   "execution_count": 22,
   "metadata": {},
   "outputs": [
    {
     "data": {
      "text/plain": [
       "<matplotlib.text.Text at 0x1698060c128>"
      ]
     },
     "execution_count": 22,
     "metadata": {},
     "output_type": "execute_result"
    },
    {
     "data": {
      "image/png": "[encoded data removed]",
      "text/plain": [
       "<matplotlib.figure.Figure at 0x169e96fe518>"
      ]
     },
     "metadata": {},
     "output_type": "display_data"
    }
   ],
   "source": [
    "sns.boxplot(data=ph_amc_agg, x='support', y='mean_tibia_delta')\n",
    "plt.title('Boxplot of mean tibia delta by type of support')"
   ]
  },
  {
   "cell_type": "code",
   "execution_count": 23,
   "metadata": {},
   "outputs": [
    {
     "data": {
      "image/png": "[encoded data removed]",
      "text/plain": [
       "<matplotlib.figure.Figure at 0x169ef36da90>"
      ]
     },
     "metadata": {},
     "output_type": "display_data"
    },
    {
     "data": {
      "image/png": "[encoded data removed]",
      "text/plain": [
       "<matplotlib.figure.Figure at 0x16980720dd8>"
      ]
     },
     "metadata": {},
     "output_type": "display_data"
    }
   ],
   "source": [
    "for supp in ['lss', 'rss']:\n",
    "    d_plt = ph_amc_agg[ph_amc_agg['support'] == supp]\n",
    "    plt.scatter(d_plt['mean_tibia_delta'], d_plt['sd_tibia_delta'])\n",
    "    plt.title(supp)\n",
    "    plt.show()"
   ]
  },
  {
   "cell_type": "code",
   "execution_count": 27,
   "metadata": {},
   "outputs": [
    {
     "data": {
      "text/html": [
       "<div>\n",
       "<style>\n",
       "    .dataframe thead tr:only-child th {\n",
       "        text-align: right;\n",
       "    }\n",
       "\n",
       "    .dataframe thead th {\n",
       "        text-align: left;\n",
       "    }\n",
       "\n",
       "    .dataframe tbody tr th {\n",
       "        vertical-align: top;\n",
       "    }\n",
       "</style>\n",
       "<table border=\"1\" class=\"dataframe\">\n",
       "  <thead>\n",
       "    <tr style=\"text-align: right;\">\n",
       "      <th></th>\n",
       "      <th>amc_path</th>\n",
       "      <th>support</th>\n",
       "      <th>mean_tibia_delta</th>\n",
       "      <th>sd_tibia_delta</th>\n",
       "    </tr>\n",
       "  </thead>\n",
       "  <tbody>\n",
       "    <tr>\n",
       "      <th>91</th>\n",
       "      <td>32_01.amc</td>\n",
       "      <td>lss</td>\n",
       "      <td>-7.099470</td>\n",
       "      <td>6.534535</td>\n",
       "    </tr>\n",
       "    <tr>\n",
       "      <th>94</th>\n",
       "      <td>32_02.amc</td>\n",
       "      <td>lss</td>\n",
       "      <td>-6.944040</td>\n",
       "      <td>6.249819</td>\n",
       "    </tr>\n",
       "    <tr>\n",
       "      <th>16</th>\n",
       "      <td>07_02.amc</td>\n",
       "      <td>lss</td>\n",
       "      <td>3.283996</td>\n",
       "      <td>1.792890</td>\n",
       "    </tr>\n",
       "    <tr>\n",
       "      <th>127</th>\n",
       "      <td>35_14.amc</td>\n",
       "      <td>lss</td>\n",
       "      <td>3.741971</td>\n",
       "      <td>1.646945</td>\n",
       "    </tr>\n",
       "    <tr>\n",
       "      <th>163</th>\n",
       "      <td>39_01.amc</td>\n",
       "      <td>lss</td>\n",
       "      <td>2.936645</td>\n",
       "      <td>1.594675</td>\n",
       "    </tr>\n",
       "    <tr>\n",
       "      <th>76</th>\n",
       "      <td>16_22.amc</td>\n",
       "      <td>lss</td>\n",
       "      <td>3.855409</td>\n",
       "      <td>1.505752</td>\n",
       "    </tr>\n",
       "    <tr>\n",
       "      <th>10</th>\n",
       "      <td>06_01.amc</td>\n",
       "      <td>lss</td>\n",
       "      <td>3.915950</td>\n",
       "      <td>1.420728</td>\n",
       "    </tr>\n",
       "  </tbody>\n",
       "</table>\n",
       "</div>"
      ],
      "text/plain": [
       "      amc_path support  mean_tibia_delta  sd_tibia_delta\n",
       "91   32_01.amc     lss         -7.099470        6.534535\n",
       "94   32_02.amc     lss         -6.944040        6.249819\n",
       "16   07_02.amc     lss          3.283996        1.792890\n",
       "127  35_14.amc     lss          3.741971        1.646945\n",
       "163  39_01.amc     lss          2.936645        1.594675\n",
       "76   16_22.amc     lss          3.855409        1.505752\n",
       "10   06_01.amc     lss          3.915950        1.420728"
      ]
     },
     "execution_count": 27,
     "metadata": {},
     "output_type": "execute_result"
    }
   ],
   "source": [
    "ph_amc_agg[ph_amc_agg['support'] == 'lss'].sort_values('sd_tibia_delta', ascending=False)[:7]"
   ]
  },
  {
   "cell_type": "code",
   "execution_count": 28,
   "metadata": {},
   "outputs": [
    {
     "data": {
      "text/html": [
       "<div>\n",
       "<style>\n",
       "    .dataframe thead tr:only-child th {\n",
       "        text-align: right;\n",
       "    }\n",
       "\n",
       "    .dataframe thead th {\n",
       "        text-align: left;\n",
       "    }\n",
       "\n",
       "    .dataframe tbody tr th {\n",
       "        vertical-align: top;\n",
       "    }\n",
       "</style>\n",
       "<table border=\"1\" class=\"dataframe\">\n",
       "  <thead>\n",
       "    <tr style=\"text-align: right;\">\n",
       "      <th></th>\n",
       "      <th>amc_path</th>\n",
       "      <th>support</th>\n",
       "      <th>mean_tibia_delta</th>\n",
       "      <th>sd_tibia_delta</th>\n",
       "    </tr>\n",
       "  </thead>\n",
       "  <tbody>\n",
       "    <tr>\n",
       "      <th>92</th>\n",
       "      <td>32_01.amc</td>\n",
       "      <td>rss</td>\n",
       "      <td>-5.361804</td>\n",
       "      <td>6.791754</td>\n",
       "    </tr>\n",
       "    <tr>\n",
       "      <th>95</th>\n",
       "      <td>32_02.amc</td>\n",
       "      <td>rss</td>\n",
       "      <td>-3.493671</td>\n",
       "      <td>6.665246</td>\n",
       "    </tr>\n",
       "    <tr>\n",
       "      <th>32</th>\n",
       "      <td>07_09.amc</td>\n",
       "      <td>rss</td>\n",
       "      <td>-1.406046</td>\n",
       "      <td>1.955478</td>\n",
       "    </tr>\n",
       "    <tr>\n",
       "      <th>17</th>\n",
       "      <td>07_02.amc</td>\n",
       "      <td>rss</td>\n",
       "      <td>-1.256290</td>\n",
       "      <td>1.847932</td>\n",
       "    </tr>\n",
       "    <tr>\n",
       "      <th>194</th>\n",
       "      <td>39_13.amc</td>\n",
       "      <td>rss</td>\n",
       "      <td>-2.315632</td>\n",
       "      <td>1.519358</td>\n",
       "    </tr>\n",
       "    <tr>\n",
       "      <th>44</th>\n",
       "      <td>08_02.amc</td>\n",
       "      <td>rss</td>\n",
       "      <td>-2.604627</td>\n",
       "      <td>1.290108</td>\n",
       "    </tr>\n",
       "    <tr>\n",
       "      <th>191</th>\n",
       "      <td>39_12.amc</td>\n",
       "      <td>rss</td>\n",
       "      <td>-2.813717</td>\n",
       "      <td>1.272249</td>\n",
       "    </tr>\n",
       "  </tbody>\n",
       "</table>\n",
       "</div>"
      ],
      "text/plain": [
       "      amc_path support  mean_tibia_delta  sd_tibia_delta\n",
       "92   32_01.amc     rss         -5.361804        6.791754\n",
       "95   32_02.amc     rss         -3.493671        6.665246\n",
       "32   07_09.amc     rss         -1.406046        1.955478\n",
       "17   07_02.amc     rss         -1.256290        1.847932\n",
       "194  39_13.amc     rss         -2.315632        1.519358\n",
       "44   08_02.amc     rss         -2.604627        1.290108\n",
       "191  39_12.amc     rss         -2.813717        1.272249"
      ]
     },
     "execution_count": 28,
     "metadata": {},
     "output_type": "execute_result"
    }
   ],
   "source": [
    "ph_amc_agg[ph_amc_agg['support'] == 'rss'].sort_values('sd_tibia_delta', ascending=False)[:7]"
   ]
  },
  {
   "cell_type": "code",
   "execution_count": 30,
   "metadata": {
    "collapsed": true
   },
   "outputs": [],
   "source": [
    "bad_amc = ['32_01.amc', '32_02.amc']\n",
    "ph_amc_agg = ph_amc_agg[~ph_amc_agg['amc_path'].isin(bad_amc)]"
   ]
  },
  {
   "cell_type": "code",
   "execution_count": 31,
   "metadata": {},
   "outputs": [
    {
     "data": {
      "image/png": "[encoded data removed]",
      "text/plain": [
       "<matplotlib.figure.Figure at 0x169805cc7f0>"
      ]
     },
     "metadata": {},
     "output_type": "display_data"
    },
    {
     "data": {
      "image/png": "[encoded data removed]",
      "text/plain": [
       "<matplotlib.figure.Figure at 0x169ef354f60>"
      ]
     },
     "metadata": {},
     "output_type": "display_data"
    }
   ],
   "source": [
    "for supp in ['lss', 'rss']:\n",
    "    d_plt = ph_amc_agg[ph_amc_agg['support'] == supp]\n",
    "    plt.scatter(d_plt['mean_tibia_delta'], d_plt['sd_tibia_delta'])\n",
    "    plt.title(supp)\n",
    "    plt.show()"
   ]
  },
  {
   "cell_type": "code",
   "execution_count": 39,
   "metadata": {},
   "outputs": [
    {
     "data": {
      "image/png": "[encoded data removed]",
      "text/plain": [
       "<matplotlib.figure.Figure at 0x16981a8d2b0>"
      ]
     },
     "metadata": {},
     "output_type": "display_data"
    }
   ],
   "source": [
    "ph_amc_agg[ph_amc_agg['support'] == 'lss']['mean_tibia_delta'].hist(bins=20);\n",
    "ph_amc_agg[ph_amc_agg['support'] == 'rss']['mean_tibia_delta'].hist(bins=20);\n",
    "plt.title('Mean tibia coordinate histogram by type of support');"
   ]
  },
  {
   "cell_type": "code",
   "execution_count": 36,
   "metadata": {},
   "outputs": [
    {
     "data": {
      "text/plain": [
       "support      \n",
       "lss      0.10    2.747625\n",
       "         0.25    3.152471\n",
       "         0.50    3.535950\n",
       "         0.75    4.019241\n",
       "         0.80    4.085953\n",
       "         0.90    4.339497\n",
       "rss      0.10   -3.069900\n",
       "         0.25   -2.550976\n",
       "         0.50   -1.780173\n",
       "         0.75   -1.178334\n",
       "         0.80   -1.084029\n",
       "         0.90   -0.447592\n",
       "Name: mean_tibia_delta, dtype: float64"
      ]
     },
     "execution_count": 36,
     "metadata": {},
     "output_type": "execute_result"
    }
   ],
   "source": [
    "ph_amc_agg[ph_amc_agg['support'] != 'ds'].groupby(['support']).mean_tibia_delta.quantile([0.1, 0.25, 0.5, 0.75, 0.8, 0.9])"
   ]
  },
  {
   "cell_type": "code",
   "execution_count": null,
   "metadata": {
    "collapsed": true
   },
   "outputs": [],
   "source": []
  }
 ],
 "metadata": {
  "kernelspec": {
   "display_name": "Python 3",
   "language": "python",
   "name": "python3"
  },
  "language_info": {
   "codemirror_mode": {
    "name": "ipython",
    "version": 3
   },
   "file_extension": ".py",
   "mimetype": "text/x-python",
   "name": "python",
   "nbconvert_exporter": "python",
   "pygments_lexer": "ipython3",
   "version": "3.7.1"
  }
 },
 "nbformat": 4,
 "nbformat_minor": 2
}
