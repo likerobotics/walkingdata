{
 "cells": [
  {
   "cell_type": "code",
   "execution_count": 53,
   "id": "diagnostic-titanium",
   "metadata": {},
   "outputs": [],
   "source": [
    "import numpy as np\n",
    "import pandas as pd\n",
    "from matplotlib import pyplot as plt\n",
    "import os\n",
    "%matplotlib inline\n"
   ]
  },
  {
   "cell_type": "code",
   "execution_count": 117,
   "id": "aquatic-guest",
   "metadata": {},
   "outputs": [
    {
     "name": "stdout",
     "output_type": "stream",
     "text": [
      "../data/02/data.csv\n",
      "1.0908943166576035\n",
      "[94, 224]\n",
      "1.0908943166576035\n",
      "[94, 224]\n",
      "../data/05/data.csv\n",
      "0.7759682416950784\n",
      "[61, 204]\n",
      "../data/06/data.csv\n",
      "0.9862245876055415\n",
      "[52, 193, 339]\n",
      "../data/07/data.csv\n",
      "0.9429691514578108\n",
      "[271]\n",
      "0.9429691514578108\n",
      "[271]\n",
      "0.9429691514578108\n",
      "[271]\n",
      "0.9429691514578108\n",
      "[271]\n",
      "0.9429691514578108\n",
      "[271]\n",
      "0.9429691514578108\n",
      "[271]\n",
      "0.9429691514578108\n",
      "[271]\n",
      "0.9429691514578108\n",
      "[271]\n",
      "0.9429691514578108\n",
      "[271]\n",
      "../data/08/data.csv\n",
      "0.9490992516346484\n",
      "[38, 157]\n",
      "0.9490992516346484\n",
      "[38, 157]\n",
      "0.9490992516346484\n",
      "[38, 157]\n",
      "0.9490992516346484\n",
      "[38, 157]\n",
      "0.9490992516346484\n",
      "[38, 157]\n",
      "0.9490992516346484\n",
      "[38, 157]\n",
      "0.9490992516346484\n",
      "[38, 157]\n",
      "0.9490992516346484\n",
      "[38, 157]\n",
      "../data/10/data.csv\n",
      "0.8999076998696923\n",
      "[160, 296]\n",
      "../data/16/data.csv\n",
      "0.9132524682100204\n",
      "[79, 218, 358]\n",
      "0.9132524682100204\n",
      "[79, 218, 358]\n",
      "0.9132524682100204\n",
      "[79, 218, 358]\n",
      "0.9132524682100204\n",
      "[79, 218, 358]\n",
      "0.9132524682100204\n",
      "[79, 218, 358]\n",
      "0.9132524682100204\n",
      "[79, 218, 358]\n",
      "0.9132524682100204\n",
      "[79, 218, 358]\n",
      "0.9132524682100204\n",
      "[79, 218, 358]\n",
      "../data/32/data.csv\n",
      "-0.1167463612117059\n",
      "[61, 212]\n",
      "-0.1167463612117059\n",
      "[61, 212]\n",
      "../data/35/data.csv\n",
      "1.051105586771261\n",
      "[99]\n",
      "1.051105586771261\n",
      "[99]\n",
      "1.051105586771261\n",
      "[99]\n",
      "1.051105586771261\n",
      "[99]\n",
      "1.051105586771261\n",
      "[99]\n",
      "1.051105586771261\n",
      "[99]\n",
      "1.051105586771261\n",
      "[99]\n",
      "1.051105586771261\n",
      "[99]\n",
      "1.051105586771261\n",
      "[99]\n",
      "1.051105586771261\n",
      "[99]\n",
      "1.051105586771261\n",
      "[99]\n",
      "1.051105586771261\n",
      "[99]\n",
      "1.051105586771261\n",
      "[99]\n",
      "1.051105586771261\n",
      "[99]\n",
      "1.051105586771261\n",
      "[99]\n",
      "1.051105586771261\n",
      "[99]\n",
      "1.051105586771261\n",
      "[99]\n",
      "1.051105586771261\n",
      "[99]\n",
      "1.051105586771261\n",
      "[99]\n",
      "1.051105586771261\n",
      "[99]\n",
      "../data/38/data.csv\n",
      "0.9680121890011086\n",
      "[123, 254]\n",
      "0.9680121890011086\n",
      "[123, 254]\n",
      "../data/39/data.csv\n",
      "0.7586760644803943\n",
      "[99, 221, 347]\n",
      "0.7586760644803943\n",
      "[99, 221, 347]\n",
      "0.7586760644803943\n",
      "[99, 221, 347]\n",
      "0.7586760644803943\n",
      "[99, 221, 347]\n",
      "0.7586760644803943\n",
      "[99, 221, 347]\n",
      "0.7586760644803943\n",
      "[99, 221, 347]\n",
      "0.7586760644803943\n",
      "[99, 221, 347]\n",
      "0.7586760644803943\n",
      "[99, 221, 347]\n",
      "0.7586760644803943\n",
      "[99, 221, 347]\n",
      "0.7586760644803943\n",
      "[99, 221, 347]\n",
      "0.7586760644803943\n",
      "[99, 221, 347]\n",
      "0.7586760644803943\n",
      "[99, 221, 347]\n",
      "../data/43/data.csv\n",
      "0.9700338793496308\n",
      "[27, 154, 288]\n",
      "../data/49/data.csv\n",
      "0.8696429087708216\n",
      "[215, 375]\n",
      "../data/55/data.csv\n",
      "0.9141230440891076\n",
      "[179, 320]\n"
     ]
    }
   ],
   "source": [
    "vel_means = []\n",
    "angular_vels = []\n",
    "identification = []\n",
    "freqs = []\n",
    "\n",
    "data_path='../data'\n",
    "lv0 = data_path\n",
    "lv1s = os.listdir(lv0)\n",
    "if '.ipynb_checkpoints' in lv1s:\n",
    "        lv1s.remove('.ipynb_checkpoints')\n",
    "\n",
    "for lv1 in lv1s:\n",
    "    lv2s = os.listdir('/'.join([lv0, lv1]))\n",
    "    #asf collecting\n",
    "    path = '%s/%s/data.csv' % (lv0, lv1)\n",
    "    print(path)\n",
    "    data = pd.read_csv(path)\n",
    "    df = data.drop(['Unnamed: 0'], axis=1)\n",
    "    values = set(df['amc_path'].values) # for one person there may be several records\n",
    "    for item in values:\n",
    "        onecasedf = df.loc[df['amc_path'] == df['amc_path'].loc[0]]\n",
    "        #calculate the hip velocity\n",
    "        vels = np.zeros(onecasedf.shape[0] - 25)\n",
    "        angular_vel = np.zeros(onecasedf.shape[0] - 25)\n",
    "    #     print(onecasedf['ltibia_norm_angle_0'].max(), onecasedf['ltibia_norm_angle_0'].min())\n",
    "    #     amps = np.zeros(onecasedf.shape[0] - 5)\n",
    "        maxval = onecasedf['ltibia_norm_angle_0'].max()\n",
    "        print(maxval)\n",
    "        peaks = []\n",
    "        for i in range(onecasedf.shape[0] - 25):\n",
    "            #calculate hip velocity and joint amplitude\n",
    "            vels[i] = abs(onecasedf['root_coord_2'].loc[i+25] - onecasedf['root_coord_2'].loc[i]) / 0.45 * 2.54 / 24 # santimeters per sec\n",
    "            angular_vel[i] = abs(onecasedf['ltibia_norm_angle_0'].loc[i+25] - onecasedf['ltibia_norm_angle_0'].loc[i]) / 24 # santimeters per sec\n",
    "            if onecasedf['ltibia_norm_angle_0'].loc[i] >= maxval - 0.05 and onecasedf['ltibia_norm_angle_0'].loc[i+25] < onecasedf['ltibia_norm_angle_0'].loc[i]:\n",
    "                peaks.append(onecasedf['frame'].loc[i])\n",
    "        cl_peaks = []\n",
    "        for i, ix in enumerate(peaks):\n",
    "            if i == 0:\n",
    "                cl_peaks.append(ix)\n",
    "            elif abs(ix - peaks[i-1]) > 25:\n",
    "                cl_peaks.append(ix)\n",
    "        print(cl_peaks)\n",
    "        if len(cl_peaks) > 1:\n",
    "            diff = cl_peaks[len(cl_peaks)-1] - cl_peaks[len(cl_peaks)-2]\n",
    "            pereod = 120/diff\n",
    "            freq = 1/pereod\n",
    "            angular_vels.append(angular_vel.mean())\n",
    "            freqs.append(freq)\n",
    "            vel_means.append(vels.mean())\n",
    "            identification.append(item)"
   ]
  },
  {
   "cell_type": "markdown",
   "id": "perfect-profile",
   "metadata": {},
   "source": [
    "vel_means = []\n",
    "freq_means = []\n",
    "identification = []\n",
    "\n",
    "data_path='../data'\n",
    "lv0 = data_path\n",
    "lv1s = os.listdir(lv0)\n",
    "if '.ipynb_checkpoints' in lv1s:\n",
    "        lv1s.remove('.ipynb_checkpoints')\n",
    "\n",
    "for lv1 in lv1s:\n",
    "    lv2s = os.listdir('/'.join([lv0, lv1]))\n",
    "    #asf collecting\n",
    "    path = '%s/%s/data.csv' % (lv0, lv1)\n",
    "    print(path)\n",
    "#####     df = amc_parser.get_all_data(person_folder=asf_folder)\n",
    "    data = pd.read_csv(path)\n",
    "    df = data.drop(['Unnamed: 0'], axis=1)\n",
    "    values = set(df['amc_path'].values) # for one person there may be several records\n",
    "    for item in values:\n",
    "        onecasedf = df.loc[df['amc_path'] == df['amc_path'].loc[0]]\n",
    "        \n",
    "        #calculate the hip velocity\n",
    "        amps = np.zeros(onecasedf.shape[0] - 5)\n",
    "        vels = np.zeros(onecasedf.shape[0] - 5)\n",
    "        for i in range(onecasedf.shape[0] - 5):\n",
    "            #calculate hip velocity and joint amplitude\n",
    "            vels[i] = abs(onecasedf['root_coord_2'].loc[i+5] - onecasedf['root_coord_2'].loc[i]) / 0.45 * 2.54 / 24 # santimeters per sec\n",
    "            amps[i] = abs(onecasedf['ltibia_norm_angle_0'].loc[i+5] - onecasedf['ltibia_norm_angle_0'].loc[i]) / 24 # santimeters per sec\n",
    "        amp_means.append(amps.mean())\n",
    "        vel_means.append(vels.mean())\n",
    "        identification.append(item)"
   ]
  },
  {
   "cell_type": "code",
   "execution_count": 118,
   "id": "broke-accessory",
   "metadata": {},
   "outputs": [
    {
     "data": {
      "text/html": [
       "<div>\n",
       "<style scoped>\n",
       "    .dataframe tbody tr th:only-of-type {\n",
       "        vertical-align: middle;\n",
       "    }\n",
       "\n",
       "    .dataframe tbody tr th {\n",
       "        vertical-align: top;\n",
       "    }\n",
       "\n",
       "    .dataframe thead th {\n",
       "        text-align: right;\n",
       "    }\n",
       "</style>\n",
       "<table border=\"1\" class=\"dataframe\">\n",
       "  <thead>\n",
       "    <tr style=\"text-align: right;\">\n",
       "      <th></th>\n",
       "      <th>sample_unic_id</th>\n",
       "      <th>velocity</th>\n",
       "      <th>angular_vels</th>\n",
       "      <th>frequency</th>\n",
       "    </tr>\n",
       "  </thead>\n",
       "  <tbody>\n",
       "    <tr>\n",
       "      <th>0</th>\n",
       "      <td>02_02.amc</td>\n",
       "      <td>1.016481</td>\n",
       "      <td>0.013147</td>\n",
       "      <td>1.083333</td>\n",
       "    </tr>\n",
       "    <tr>\n",
       "      <th>1</th>\n",
       "      <td>02_01.amc</td>\n",
       "      <td>1.016481</td>\n",
       "      <td>0.013147</td>\n",
       "      <td>1.083333</td>\n",
       "    </tr>\n",
       "    <tr>\n",
       "      <th>2</th>\n",
       "      <td>05_01.amc</td>\n",
       "      <td>0.815678</td>\n",
       "      <td>0.012362</td>\n",
       "      <td>1.191667</td>\n",
       "    </tr>\n",
       "    <tr>\n",
       "      <th>3</th>\n",
       "      <td>06_01.amc</td>\n",
       "      <td>0.906153</td>\n",
       "      <td>0.013088</td>\n",
       "      <td>1.216667</td>\n",
       "    </tr>\n",
       "    <tr>\n",
       "      <th>4</th>\n",
       "      <td>08_02.amc</td>\n",
       "      <td>1.387567</td>\n",
       "      <td>0.018620</td>\n",
       "      <td>0.991667</td>\n",
       "    </tr>\n",
       "    <tr>\n",
       "      <th>5</th>\n",
       "      <td>08_04.amc</td>\n",
       "      <td>1.387567</td>\n",
       "      <td>0.018620</td>\n",
       "      <td>0.991667</td>\n",
       "    </tr>\n",
       "    <tr>\n",
       "      <th>6</th>\n",
       "      <td>08_03.amc</td>\n",
       "      <td>1.387567</td>\n",
       "      <td>0.018620</td>\n",
       "      <td>0.991667</td>\n",
       "    </tr>\n",
       "    <tr>\n",
       "      <th>7</th>\n",
       "      <td>08_09.amc</td>\n",
       "      <td>1.387567</td>\n",
       "      <td>0.018620</td>\n",
       "      <td>0.991667</td>\n",
       "    </tr>\n",
       "    <tr>\n",
       "      <th>8</th>\n",
       "      <td>08_10.amc</td>\n",
       "      <td>1.387567</td>\n",
       "      <td>0.018620</td>\n",
       "      <td>0.991667</td>\n",
       "    </tr>\n",
       "    <tr>\n",
       "      <th>9</th>\n",
       "      <td>08_06.amc</td>\n",
       "      <td>1.387567</td>\n",
       "      <td>0.018620</td>\n",
       "      <td>0.991667</td>\n",
       "    </tr>\n",
       "    <tr>\n",
       "      <th>10</th>\n",
       "      <td>08_01.amc</td>\n",
       "      <td>1.387567</td>\n",
       "      <td>0.018620</td>\n",
       "      <td>0.991667</td>\n",
       "    </tr>\n",
       "    <tr>\n",
       "      <th>11</th>\n",
       "      <td>08_08.amc</td>\n",
       "      <td>1.387567</td>\n",
       "      <td>0.018620</td>\n",
       "      <td>0.991667</td>\n",
       "    </tr>\n",
       "    <tr>\n",
       "      <th>12</th>\n",
       "      <td>10_04.amc</td>\n",
       "      <td>0.955126</td>\n",
       "      <td>0.012600</td>\n",
       "      <td>1.133333</td>\n",
       "    </tr>\n",
       "    <tr>\n",
       "      <th>13</th>\n",
       "      <td>16_32.amc</td>\n",
       "      <td>0.950365</td>\n",
       "      <td>0.013546</td>\n",
       "      <td>1.166667</td>\n",
       "    </tr>\n",
       "    <tr>\n",
       "      <th>14</th>\n",
       "      <td>16_22.amc</td>\n",
       "      <td>0.950365</td>\n",
       "      <td>0.013546</td>\n",
       "      <td>1.166667</td>\n",
       "    </tr>\n",
       "    <tr>\n",
       "      <th>15</th>\n",
       "      <td>16_15.amc</td>\n",
       "      <td>0.950365</td>\n",
       "      <td>0.013546</td>\n",
       "      <td>1.166667</td>\n",
       "    </tr>\n",
       "    <tr>\n",
       "      <th>16</th>\n",
       "      <td>16_31.amc</td>\n",
       "      <td>0.950365</td>\n",
       "      <td>0.013546</td>\n",
       "      <td>1.166667</td>\n",
       "    </tr>\n",
       "    <tr>\n",
       "      <th>17</th>\n",
       "      <td>16_47.amc</td>\n",
       "      <td>0.950365</td>\n",
       "      <td>0.013546</td>\n",
       "      <td>1.166667</td>\n",
       "    </tr>\n",
       "    <tr>\n",
       "      <th>18</th>\n",
       "      <td>16_58.amc</td>\n",
       "      <td>0.950365</td>\n",
       "      <td>0.013546</td>\n",
       "      <td>1.166667</td>\n",
       "    </tr>\n",
       "    <tr>\n",
       "      <th>19</th>\n",
       "      <td>16_21.amc</td>\n",
       "      <td>0.950365</td>\n",
       "      <td>0.013546</td>\n",
       "      <td>1.166667</td>\n",
       "    </tr>\n",
       "    <tr>\n",
       "      <th>20</th>\n",
       "      <td>16_16.amc</td>\n",
       "      <td>0.950365</td>\n",
       "      <td>0.013546</td>\n",
       "      <td>1.166667</td>\n",
       "    </tr>\n",
       "    <tr>\n",
       "      <th>21</th>\n",
       "      <td>32_01.amc</td>\n",
       "      <td>0.366344</td>\n",
       "      <td>0.008124</td>\n",
       "      <td>1.258333</td>\n",
       "    </tr>\n",
       "    <tr>\n",
       "      <th>22</th>\n",
       "      <td>32_02.amc</td>\n",
       "      <td>0.366344</td>\n",
       "      <td>0.008124</td>\n",
       "      <td>1.258333</td>\n",
       "    </tr>\n",
       "    <tr>\n",
       "      <th>23</th>\n",
       "      <td>38_02.amc</td>\n",
       "      <td>1.002991</td>\n",
       "      <td>0.013877</td>\n",
       "      <td>1.091667</td>\n",
       "    </tr>\n",
       "    <tr>\n",
       "      <th>24</th>\n",
       "      <td>38_01.amc</td>\n",
       "      <td>1.002991</td>\n",
       "      <td>0.013877</td>\n",
       "      <td>1.091667</td>\n",
       "    </tr>\n",
       "    <tr>\n",
       "      <th>25</th>\n",
       "      <td>39_09.amc</td>\n",
       "      <td>1.298299</td>\n",
       "      <td>0.018022</td>\n",
       "      <td>1.050000</td>\n",
       "    </tr>\n",
       "    <tr>\n",
       "      <th>26</th>\n",
       "      <td>39_06.amc</td>\n",
       "      <td>1.298299</td>\n",
       "      <td>0.018022</td>\n",
       "      <td>1.050000</td>\n",
       "    </tr>\n",
       "    <tr>\n",
       "      <th>27</th>\n",
       "      <td>39_14.amc</td>\n",
       "      <td>1.298299</td>\n",
       "      <td>0.018022</td>\n",
       "      <td>1.050000</td>\n",
       "    </tr>\n",
       "    <tr>\n",
       "      <th>28</th>\n",
       "      <td>39_08.amc</td>\n",
       "      <td>1.298299</td>\n",
       "      <td>0.018022</td>\n",
       "      <td>1.050000</td>\n",
       "    </tr>\n",
       "    <tr>\n",
       "      <th>29</th>\n",
       "      <td>39_13.amc</td>\n",
       "      <td>1.298299</td>\n",
       "      <td>0.018022</td>\n",
       "      <td>1.050000</td>\n",
       "    </tr>\n",
       "    <tr>\n",
       "      <th>30</th>\n",
       "      <td>39_12.amc</td>\n",
       "      <td>1.298299</td>\n",
       "      <td>0.018022</td>\n",
       "      <td>1.050000</td>\n",
       "    </tr>\n",
       "    <tr>\n",
       "      <th>31</th>\n",
       "      <td>39_04.amc</td>\n",
       "      <td>1.298299</td>\n",
       "      <td>0.018022</td>\n",
       "      <td>1.050000</td>\n",
       "    </tr>\n",
       "    <tr>\n",
       "      <th>32</th>\n",
       "      <td>39_03.amc</td>\n",
       "      <td>1.298299</td>\n",
       "      <td>0.018022</td>\n",
       "      <td>1.050000</td>\n",
       "    </tr>\n",
       "    <tr>\n",
       "      <th>33</th>\n",
       "      <td>39_07.amc</td>\n",
       "      <td>1.298299</td>\n",
       "      <td>0.018022</td>\n",
       "      <td>1.050000</td>\n",
       "    </tr>\n",
       "    <tr>\n",
       "      <th>34</th>\n",
       "      <td>39_02.amc</td>\n",
       "      <td>1.298299</td>\n",
       "      <td>0.018022</td>\n",
       "      <td>1.050000</td>\n",
       "    </tr>\n",
       "    <tr>\n",
       "      <th>35</th>\n",
       "      <td>39_05.amc</td>\n",
       "      <td>1.298299</td>\n",
       "      <td>0.018022</td>\n",
       "      <td>1.050000</td>\n",
       "    </tr>\n",
       "    <tr>\n",
       "      <th>36</th>\n",
       "      <td>39_01.amc</td>\n",
       "      <td>1.298299</td>\n",
       "      <td>0.018022</td>\n",
       "      <td>1.050000</td>\n",
       "    </tr>\n",
       "    <tr>\n",
       "      <th>37</th>\n",
       "      <td>43_01.amc</td>\n",
       "      <td>1.144629</td>\n",
       "      <td>0.019018</td>\n",
       "      <td>1.116667</td>\n",
       "    </tr>\n",
       "    <tr>\n",
       "      <th>38</th>\n",
       "      <td>49_01.amc</td>\n",
       "      <td>0.759248</td>\n",
       "      <td>0.013325</td>\n",
       "      <td>1.333333</td>\n",
       "    </tr>\n",
       "    <tr>\n",
       "      <th>39</th>\n",
       "      <td>55_04.amc</td>\n",
       "      <td>0.935304</td>\n",
       "      <td>0.015817</td>\n",
       "      <td>1.175000</td>\n",
       "    </tr>\n",
       "  </tbody>\n",
       "</table>\n",
       "</div>"
      ],
      "text/plain": [
       "   sample_unic_id  velocity  angular_vels  frequency\n",
       "0       02_02.amc  1.016481      0.013147   1.083333\n",
       "1       02_01.amc  1.016481      0.013147   1.083333\n",
       "2       05_01.amc  0.815678      0.012362   1.191667\n",
       "3       06_01.amc  0.906153      0.013088   1.216667\n",
       "4       08_02.amc  1.387567      0.018620   0.991667\n",
       "5       08_04.amc  1.387567      0.018620   0.991667\n",
       "6       08_03.amc  1.387567      0.018620   0.991667\n",
       "7       08_09.amc  1.387567      0.018620   0.991667\n",
       "8       08_10.amc  1.387567      0.018620   0.991667\n",
       "9       08_06.amc  1.387567      0.018620   0.991667\n",
       "10      08_01.amc  1.387567      0.018620   0.991667\n",
       "11      08_08.amc  1.387567      0.018620   0.991667\n",
       "12      10_04.amc  0.955126      0.012600   1.133333\n",
       "13      16_32.amc  0.950365      0.013546   1.166667\n",
       "14      16_22.amc  0.950365      0.013546   1.166667\n",
       "15      16_15.amc  0.950365      0.013546   1.166667\n",
       "16      16_31.amc  0.950365      0.013546   1.166667\n",
       "17      16_47.amc  0.950365      0.013546   1.166667\n",
       "18      16_58.amc  0.950365      0.013546   1.166667\n",
       "19      16_21.amc  0.950365      0.013546   1.166667\n",
       "20      16_16.amc  0.950365      0.013546   1.166667\n",
       "21      32_01.amc  0.366344      0.008124   1.258333\n",
       "22      32_02.amc  0.366344      0.008124   1.258333\n",
       "23      38_02.amc  1.002991      0.013877   1.091667\n",
       "24      38_01.amc  1.002991      0.013877   1.091667\n",
       "25      39_09.amc  1.298299      0.018022   1.050000\n",
       "26      39_06.amc  1.298299      0.018022   1.050000\n",
       "27      39_14.amc  1.298299      0.018022   1.050000\n",
       "28      39_08.amc  1.298299      0.018022   1.050000\n",
       "29      39_13.amc  1.298299      0.018022   1.050000\n",
       "30      39_12.amc  1.298299      0.018022   1.050000\n",
       "31      39_04.amc  1.298299      0.018022   1.050000\n",
       "32      39_03.amc  1.298299      0.018022   1.050000\n",
       "33      39_07.amc  1.298299      0.018022   1.050000\n",
       "34      39_02.amc  1.298299      0.018022   1.050000\n",
       "35      39_05.amc  1.298299      0.018022   1.050000\n",
       "36      39_01.amc  1.298299      0.018022   1.050000\n",
       "37      43_01.amc  1.144629      0.019018   1.116667\n",
       "38      49_01.amc  0.759248      0.013325   1.333333\n",
       "39      55_04.amc  0.935304      0.015817   1.175000"
      ]
     },
     "execution_count": 118,
     "metadata": {},
     "output_type": "execute_result"
    }
   ],
   "source": [
    "result_data_dict = {'sample_unic_id': identification, 'velocity': vel_means, 'angular_vels': angular_vels, 'frequency':freqs}\n",
    "res_df = pd.DataFrame(data=result_data_dict)\n",
    "res_df"
   ]
  },
  {
   "cell_type": "markdown",
   "id": "endless-ceiling",
   "metadata": {},
   "source": [
    "### Not much data but will try detect correlation"
   ]
  },
  {
   "cell_type": "code",
   "execution_count": 119,
   "id": "numerous-variety",
   "metadata": {},
   "outputs": [
    {
     "name": "stdout",
     "output_type": "stream",
     "text": [
      "Populating the interactive namespace from numpy and matplotlib\n"
     ]
    },
    {
     "name": "stderr",
     "output_type": "stream",
     "text": [
      "C:\\Users\\xmlpro100\\anaconda3\\lib\\site-packages\\IPython\\core\\magics\\pylab.py:160: UserWarning: pylab import has clobbered these variables: ['shuffle', 'diff']\n",
      "`%matplotlib` prevents importing * from pylab and numpy\n",
      "  \"\\n`%matplotlib` prevents importing * from pylab and numpy\"\n"
     ]
    }
   ],
   "source": [
    "from matplotlib.colors import ListedColormap\n",
    "from sklearn import datasets, linear_model, metrics\n",
    "from sklearn.model_selection import cross_validate, train_test_split\n",
    "from sklearn.metrics import r2_score, mean_squared_error\n",
    "from sklearn.utils import shuffle\n",
    "%pylab inline"
   ]
  },
  {
   "cell_type": "code",
   "execution_count": 122,
   "id": "thrown-empire",
   "metadata": {
    "scrolled": true
   },
   "outputs": [
    {
     "data": {
      "text/plain": [
       "<AxesSubplot:xlabel='velocity', ylabel='frequency'>"
      ]
     },
     "execution_count": 122,
     "metadata": {},
     "output_type": "execute_result"
    },
    {
     "data": {
      "image/png": "[encoded data removed]",
      "text/plain": [
       "<Figure size 432x288 with 1 Axes>"
      ]
     },
     "metadata": {
      "needs_background": "light"
     },
     "output_type": "display_data"
    },
    {
     "data": {
      "image/png": "[encoded data removed]",
      "text/plain": [
       "<Figure size 432x288 with 1 Axes>"
      ]
     },
     "metadata": {
      "needs_background": "light"
     },
     "output_type": "display_data"
    },
    {
     "data": {
      "image/png": "[encoded data removed]",
      "text/plain": [
       "<Figure size 432x288 with 1 Axes>"
      ]
     },
     "metadata": {
      "needs_background": "light"
     },
     "output_type": "display_data"
    }
   ],
   "source": [
    "# the data analysis firstly.....\n",
    "\n",
    "res_df.plot(y='velocity', kind='hist', \n",
    "           color='red',  title='vel_means distribution')\n",
    "res_df.plot(y='frequency', kind='hist', \n",
    "           color='green',  title='vel_means distribution')\n",
    "\n",
    "res_df.plot(kind='scatter', x='velocity',y='frequency',c='DarkBlue', label='velocity and amplitude dependency')\n",
    "# res_df.plot(kind='line', x='velocity',y='frequency',c='DarkBlue', label='velocity and amplitude dependency')"
   ]
  },
  {
   "cell_type": "code",
   "execution_count": 124,
   "id": "obvious-guyana",
   "metadata": {},
   "outputs": [],
   "source": [
    "res_df = res_df.sort_values(by=['velocity'])\n",
    "res_df = res_df.sample(frac = 1)\n",
    "X = res_df[['velocity']].to_numpy()\n",
    "X = X.reshape(X.shape[0],1)\n",
    "y = res_df[['frequency']].to_numpy()"
   ]
  },
  {
   "cell_type": "code",
   "execution_count": 125,
   "id": "optional-pressure",
   "metadata": {},
   "outputs": [
    {
     "data": {
      "text/plain": [
       "(40, 1)"
      ]
     },
     "execution_count": 125,
     "metadata": {},
     "output_type": "execute_result"
    }
   ],
   "source": [
    "X.shape"
   ]
  },
  {
   "cell_type": "code",
   "execution_count": 126,
   "id": "sweet-ballot",
   "metadata": {},
   "outputs": [],
   "source": [
    "## Try linear model like y = aX + b"
   ]
  },
  {
   "cell_type": "code",
   "execution_count": 127,
   "id": "everyday-ocean",
   "metadata": {},
   "outputs": [
    {
     "data": {
      "text/plain": [
       "array([[-0.31803181],\n",
       "       [ 1.45313162]])"
      ]
     },
     "execution_count": 127,
     "metadata": {},
     "output_type": "execute_result"
    }
   ],
   "source": [
    "def fit(X, y):\n",
    "    n, k = X.shape\n",
    "    X = np.hstack((X, np.ones((n, 1))))\n",
    "    w = np.linalg.inv(X.T @ X) @ X.T @ y\n",
    "    return w\n",
    "\n",
    "def predict(X, w):\n",
    "    n, k = X.shape\n",
    "    X = np.hstack((X, np.ones((n, 1))))\n",
    "    y_pred = X @ w\n",
    "    return y_pred\n",
    "\n",
    "X_train, X_test, y_train, y_test = train_test_split(X, y, test_size=0.3, random_state=2)\n",
    "weights = fit(X_train, y_train)\n",
    "weights"
   ]
  },
  {
   "cell_type": "code",
   "execution_count": 128,
   "id": "subject-inventory",
   "metadata": {},
   "outputs": [
    {
     "name": "stdout",
     "output_type": "stream",
     "text": [
      "[[1.01184105]\n",
      " [1.16494607]\n",
      " [1.04023112]\n",
      " [1.04023112]\n",
      " [1.01184105]\n",
      " [1.04023112]\n",
      " [1.15088543]\n",
      " [1.01184105]\n",
      " [1.19372016]\n",
      " [1.04023112]\n",
      " [1.33662252]\n",
      " [1.14937111]]\n"
     ]
    }
   ],
   "source": [
    "y_hat = predict(X_test, weights)\n",
    "# y_hat = y_hat.sort()\n",
    "print(y_hat)"
   ]
  },
  {
   "cell_type": "code",
   "execution_count": 132,
   "id": "cosmetic-arthur",
   "metadata": {},
   "outputs": [
    {
     "data": {
      "image/png": "[encoded data removed]",
      "text/plain": [
       "<Figure size 432x288 with 1 Axes>"
      ]
     },
     "metadata": {
      "needs_background": "light"
     },
     "output_type": "display_data"
    }
   ],
   "source": [
    "#Plot line\n",
    "x_line = np.arange(0.3, 1.5, 0.02)\n",
    "y_line = weights[0][0] * x_line + weights[1][0]\n",
    "\n",
    "plt.plot(x_line, y_line, label = 'linear model')\n",
    "plt.scatter(X_train, y_train, label ='train')\n",
    "plt.scatter(X_test, y_test, label ='test')\n",
    "plt.legend()\n",
    "plt.show()"
   ]
  },
  {
   "cell_type": "code",
   "execution_count": 133,
   "id": "intense-faculty",
   "metadata": {},
   "outputs": [
    {
     "name": "stdout",
     "output_type": "stream",
     "text": [
      "0.8880993942792598\n",
      "0.0009097860300183062\n"
     ]
    }
   ],
   "source": [
    "print(r2_score(y_test, y_hat))\n",
    "print(mean_squared_error(y_test, y_hat))"
   ]
  },
  {
   "cell_type": "markdown",
   "id": "amber-scale",
   "metadata": {},
   "source": [
    "### Try scalling + regularization"
   ]
  },
  {
   "cell_type": "code",
   "execution_count": 134,
   "id": "established-convergence",
   "metadata": {},
   "outputs": [],
   "source": [
    "from sklearn.linear_model import LinearRegression, Ridge, Lasso\n",
    "import seaborn as sns\n",
    "from sklearn.preprocessing import StandardScaler, MinMaxScaler\n"
   ]
  },
  {
   "cell_type": "markdown",
   "id": "guilty-wiring",
   "metadata": {},
   "source": [
    "#### MinMaxScaler"
   ]
  },
  {
   "cell_type": "code",
   "execution_count": 135,
   "id": "spanish-wellington",
   "metadata": {},
   "outputs": [],
   "source": [
    "scaler = MinMaxScaler()\n",
    "\n",
    "X_train = scaler.fit_transform(X_train)\n",
    "X_test = scaler.transform(X_test)\n"
   ]
  },
  {
   "cell_type": "code",
   "execution_count": 136,
   "id": "olympic-talent",
   "metadata": {},
   "outputs": [
    {
     "data": {
      "text/plain": [
       "array([[-0.32478147],\n",
       "       [ 1.33662252]])"
      ]
     },
     "execution_count": 136,
     "metadata": {},
     "output_type": "execute_result"
    }
   ],
   "source": [
    "weights = fit(X_train, y_train)\n",
    "weights"
   ]
  },
  {
   "cell_type": "code",
   "execution_count": 139,
   "id": "fleet-singer",
   "metadata": {},
   "outputs": [
    {
     "data": {
      "image/png": "[encoded data removed]",
      "text/plain": [
       "<Figure size 432x288 with 1 Axes>"
      ]
     },
     "metadata": {
      "needs_background": "light"
     },
     "output_type": "display_data"
    }
   ],
   "source": [
    "#Plot line\n",
    "x_line = np.arange(0, 1.0, 0.02)\n",
    "y_line = weights[0][0] * x_line + weights[1][0]\n",
    "\n",
    "plt.plot(x_line, y_line, label = 'linear model')\n",
    "plt.scatter(X_train, y_train, label ='train')\n",
    "plt.scatter(X_test, y_test, label ='test')\n",
    "plt.legend()\n",
    "plt.show()"
   ]
  },
  {
   "cell_type": "code",
   "execution_count": 140,
   "id": "processed-identifier",
   "metadata": {},
   "outputs": [
    {
     "name": "stdout",
     "output_type": "stream",
     "text": [
      "0.8880993942792598\n",
      "0.0009097860300183062\n"
     ]
    }
   ],
   "source": [
    "print(r2_score(y_test, y_hat))\n",
    "print(mean_squared_error(y_test, y_hat))"
   ]
  },
  {
   "cell_type": "markdown",
   "id": "tender-contribution",
   "metadata": {},
   "source": [
    "#### StandardScaler"
   ]
  },
  {
   "cell_type": "code",
   "execution_count": 141,
   "id": "liberal-intervention",
   "metadata": {},
   "outputs": [
    {
     "name": "stdout",
     "output_type": "stream",
     "text": [
      "test mse:  0.0009097860300183229\n",
      "r2 score:  0.8880993942792577\n"
     ]
    }
   ],
   "source": [
    "scaler = StandardScaler()\n",
    "\n",
    "X_train = scaler.fit_transform(X_train)\n",
    "X_test = scaler.transform(X_test)\n",
    "\n",
    "regressor = LinearRegression()\n",
    "\n",
    "regressor.fit(X_train, y_train)\n",
    "test_predictions = regressor.predict(X_test)\n",
    "\n",
    "print('test mse: ', mean_squared_error(y_test, test_predictions))\n",
    "print('r2 score: ', r2_score(y_test, test_predictions))"
   ]
  },
  {
   "cell_type": "code",
   "execution_count": 142,
   "id": "appreciated-desperate",
   "metadata": {},
   "outputs": [
    {
     "data": {
      "text/plain": [
       "array([[-0.07589825],\n",
       "       [ 1.0985119 ]])"
      ]
     },
     "execution_count": 142,
     "metadata": {},
     "output_type": "execute_result"
    }
   ],
   "source": [
    "weights = fit(X_train, y_train)\n",
    "weights"
   ]
  },
  {
   "cell_type": "code",
   "execution_count": 143,
   "id": "incorporated-services",
   "metadata": {},
   "outputs": [
    {
     "data": {
      "image/png": "[encoded data removed]",
      "text/plain": [
       "<Figure size 432x288 with 1 Axes>"
      ]
     },
     "metadata": {
      "needs_background": "light"
     },
     "output_type": "display_data"
    }
   ],
   "source": [
    "#Plot line\n",
    "x_line = np.arange(-5, 1.3, 0.02)\n",
    "y_line = weights[0][0] * x_line + weights[1][0]\n",
    "\n",
    "plt.plot(x_line, y_line, label = 'linear model')\n",
    "plt.scatter(X_train, y_train, label ='train')\n",
    "plt.scatter(X_test, y_test, label ='test')\n",
    "plt.legend()\n",
    "plt.show()"
   ]
  },
  {
   "cell_type": "code",
   "execution_count": 144,
   "id": "helpful-spirit",
   "metadata": {},
   "outputs": [
    {
     "name": "stdout",
     "output_type": "stream",
     "text": [
      "test mse:  0.0009097860300183229\n",
      "r2 score:  0.8880993942792577\n"
     ]
    }
   ],
   "source": [
    "regressor = LinearRegression()\n",
    "\n",
    "regressor.fit(X_train, y_train)\n",
    "test_predictions = regressor.predict(X_test)\n",
    "\n",
    "print('test mse: ', mean_squared_error(y_test, test_predictions))\n",
    "print('r2 score: ', r2_score(y_test, test_predictions))"
   ]
  },
  {
   "cell_type": "code",
   "execution_count": 145,
   "id": "willing-arcade",
   "metadata": {},
   "outputs": [
    {
     "data": {
      "text/plain": [
       "array([[-0.07589825]])"
      ]
     },
     "execution_count": 145,
     "metadata": {},
     "output_type": "execute_result"
    }
   ],
   "source": [
    "regressor.coef_"
   ]
  },
  {
   "cell_type": "code",
   "execution_count": 154,
   "id": "eligible-subscription",
   "metadata": {},
   "outputs": [
    {
     "data": {
      "image/png": "[encoded data removed]",
      "text/plain": [
       "<Figure size 432x288 with 1 Axes>"
      ]
     },
     "metadata": {
      "needs_background": "light"
     },
     "output_type": "display_data"
    }
   ],
   "source": [
    "alphas = np.linspace(0, 3, 1000)\n",
    "\n",
    "weights = np.empty((X.shape[1], 0))\n",
    "for alpha in alphas:\n",
    "    ridge_regressor = Ridge(alpha)\n",
    "    ridge_regressor.fit(X_train, y_train)\n",
    "    weights = np.hstack((weights, ridge_regressor.coef_.reshape(-1, 1)))\n",
    "plt.plot(alphas, weights.T)\n",
    "plt.xlabel('regularization coef')\n",
    "plt.ylabel('weight value')\n",
    "plt.show()"
   ]
  },
  {
   "cell_type": "code",
   "execution_count": 155,
   "id": "korean-appraisal",
   "metadata": {},
   "outputs": [
    {
     "name": "stdout",
     "output_type": "stream",
     "text": [
      "\n",
      " r2 score ridge:  0.8889911025989166\n",
      "test mse ridge:  0.0009025361696011115\n"
     ]
    }
   ],
   "source": [
    "ridge = Ridge(0.1)\n",
    "ridge.fit(X_train, y_train)\n",
    "print('\\n r2 score ridge: ', r2_score(y_test, ridge.predict(X_test)))\n",
    "print('test mse ridge: ', mean_squared_error(y_test, ridge.predict(X_test)))"
   ]
  },
  {
   "cell_type": "markdown",
   "id": "unusual-satellite",
   "metadata": {},
   "source": [
    "\\textbf{We can try also the cross validation becouse the sample is very small}"
   ]
  },
  {
   "cell_type": "markdown",
   "id": "statutory-graph",
   "metadata": {},
   "source": [
    "### Suppose there are outliers in data"
   ]
  },
  {
   "cell_type": "code",
   "execution_count": 157,
   "id": "bibliographic-scout",
   "metadata": {},
   "outputs": [],
   "source": [
    "res_df = res_df.sort_values(by=['velocity'])\n",
    "X = res_df[['velocity']].to_numpy()\n",
    "X = X.reshape(X.shape[0],1)\n",
    "y = res_df[['frequency']].to_numpy()"
   ]
  },
  {
   "cell_type": "code",
   "execution_count": 163,
   "id": "governmental-latter",
   "metadata": {},
   "outputs": [],
   "source": [
    "i_todel = []\n",
    "for i in range(X.shape[0]):\n",
    "#     print(X[i])\n",
    "#     print(y[i])\n",
    "    #threshold has been selected by data inspection\n",
    "    if X[i][0] < 0.5:\n",
    "        i_todel.append(i)\n",
    "\n",
    "X_new = np.delete(X, i_todel)\n",
    "X_new = X_new.reshape(X_new.shape[0], 1)\n",
    "y_new = np.delete(y, i_todel)\n",
    "y_new = y_new.reshape(y_new.shape[0], 1)"
   ]
  },
  {
   "cell_type": "code",
   "execution_count": 164,
   "id": "ambient-repository",
   "metadata": {},
   "outputs": [
    {
     "data": {
      "image/png": "[encoded data removed]",
      "text/plain": [
       "<Figure size 432x288 with 1 Axes>"
      ]
     },
     "metadata": {
      "needs_background": "light"
     },
     "output_type": "display_data"
    }
   ],
   "source": [
    "plt.scatter(X_new, y_new, label ='all data cutted')\n",
    "plt.legend()\n",
    "plt.show()"
   ]
  },
  {
   "cell_type": "markdown",
   "id": "general-premises",
   "metadata": {},
   "source": [
    "We have deleted around 3% of data"
   ]
  },
  {
   "cell_type": "code",
   "execution_count": 165,
   "id": "joined-monday",
   "metadata": {},
   "outputs": [],
   "source": [
    "X_train, X_test, y_train, y_test = train_test_split(X_new, y_new, test_size=0.3, random_state=2)"
   ]
  },
  {
   "cell_type": "code",
   "execution_count": 166,
   "id": "ordered-employment",
   "metadata": {},
   "outputs": [],
   "source": [
    "scaler = StandardScaler()\n",
    "\n",
    "X_train = scaler.fit_transform(X_train)\n",
    "X_test = scaler.transform(X_test)"
   ]
  },
  {
   "cell_type": "code",
   "execution_count": 167,
   "id": "strategic-wallace",
   "metadata": {},
   "outputs": [
    {
     "name": "stdout",
     "output_type": "stream",
     "text": [
      "test mse:  0.001527135700496324\n",
      "r2 score:  0.819706866969416\n"
     ]
    }
   ],
   "source": [
    "regressor = LinearRegression()\n",
    "\n",
    "regressor.fit(X_train, y_train)\n",
    "test_predictions = regressor.predict(X_test)\n",
    "\n",
    "print('test mse: ', mean_squared_error(y_test, test_predictions))\n",
    "print('r2 score: ', r2_score(y_test, test_predictions))"
   ]
  },
  {
   "cell_type": "code",
   "execution_count": 168,
   "id": "painted-mechanics",
   "metadata": {},
   "outputs": [
    {
     "data": {
      "text/plain": [
       "array([[-0.06960948]])"
      ]
     },
     "execution_count": 168,
     "metadata": {},
     "output_type": "execute_result"
    }
   ],
   "source": [
    "regressor.coef_"
   ]
  },
  {
   "cell_type": "code",
   "execution_count": 169,
   "id": "composed-certificate",
   "metadata": {},
   "outputs": [
    {
     "data": {
      "image/png": "[encoded data removed]",
      "text/plain": [
       "<Figure size 432x288 with 1 Axes>"
      ]
     },
     "metadata": {
      "needs_background": "light"
     },
     "output_type": "display_data"
    }
   ],
   "source": [
    "plt.scatter(X_train, y_train, label ='train')\n",
    "plt.scatter(X_test, y_test, label ='test')\n",
    "plt.legend()\n",
    "plt.show()"
   ]
  },
  {
   "cell_type": "markdown",
   "id": "universal-short",
   "metadata": {},
   "source": [
    "Try to polynomial model through the features extension"
   ]
  },
  {
   "cell_type": "code",
   "execution_count": 172,
   "id": "round-feelings",
   "metadata": {},
   "outputs": [
    {
     "data": {
      "text/html": [
       "<div>\n",
       "<style scoped>\n",
       "    .dataframe tbody tr th:only-of-type {\n",
       "        vertical-align: middle;\n",
       "    }\n",
       "\n",
       "    .dataframe tbody tr th {\n",
       "        vertical-align: top;\n",
       "    }\n",
       "\n",
       "    .dataframe thead th {\n",
       "        text-align: right;\n",
       "    }\n",
       "</style>\n",
       "<table border=\"1\" class=\"dataframe\">\n",
       "  <thead>\n",
       "    <tr style=\"text-align: right;\">\n",
       "      <th></th>\n",
       "      <th>sample_unic_id</th>\n",
       "      <th>velocity</th>\n",
       "      <th>angular_vels</th>\n",
       "      <th>frequency</th>\n",
       "      <th>vel_sq</th>\n",
       "    </tr>\n",
       "  </thead>\n",
       "  <tbody>\n",
       "    <tr>\n",
       "      <th>22</th>\n",
       "      <td>32_02.amc</td>\n",
       "      <td>0.366344</td>\n",
       "      <td>0.008124</td>\n",
       "      <td>1.258333</td>\n",
       "      <td>0.134208</td>\n",
       "    </tr>\n",
       "    <tr>\n",
       "      <th>21</th>\n",
       "      <td>32_01.amc</td>\n",
       "      <td>0.366344</td>\n",
       "      <td>0.008124</td>\n",
       "      <td>1.258333</td>\n",
       "      <td>0.134208</td>\n",
       "    </tr>\n",
       "    <tr>\n",
       "      <th>38</th>\n",
       "      <td>49_01.amc</td>\n",
       "      <td>0.759248</td>\n",
       "      <td>0.013325</td>\n",
       "      <td>1.333333</td>\n",
       "      <td>0.576457</td>\n",
       "    </tr>\n",
       "    <tr>\n",
       "      <th>2</th>\n",
       "      <td>05_01.amc</td>\n",
       "      <td>0.815678</td>\n",
       "      <td>0.012362</td>\n",
       "      <td>1.191667</td>\n",
       "      <td>0.665330</td>\n",
       "    </tr>\n",
       "    <tr>\n",
       "      <th>3</th>\n",
       "      <td>06_01.amc</td>\n",
       "      <td>0.906153</td>\n",
       "      <td>0.013088</td>\n",
       "      <td>1.216667</td>\n",
       "      <td>0.821114</td>\n",
       "    </tr>\n",
       "    <tr>\n",
       "      <th>39</th>\n",
       "      <td>55_04.amc</td>\n",
       "      <td>0.935304</td>\n",
       "      <td>0.015817</td>\n",
       "      <td>1.175000</td>\n",
       "      <td>0.874793</td>\n",
       "    </tr>\n",
       "    <tr>\n",
       "      <th>15</th>\n",
       "      <td>16_15.amc</td>\n",
       "      <td>0.950365</td>\n",
       "      <td>0.013546</td>\n",
       "      <td>1.166667</td>\n",
       "      <td>0.903193</td>\n",
       "    </tr>\n",
       "    <tr>\n",
       "      <th>18</th>\n",
       "      <td>16_58.amc</td>\n",
       "      <td>0.950365</td>\n",
       "      <td>0.013546</td>\n",
       "      <td>1.166667</td>\n",
       "      <td>0.903193</td>\n",
       "    </tr>\n",
       "    <tr>\n",
       "      <th>13</th>\n",
       "      <td>16_32.amc</td>\n",
       "      <td>0.950365</td>\n",
       "      <td>0.013546</td>\n",
       "      <td>1.166667</td>\n",
       "      <td>0.903193</td>\n",
       "    </tr>\n",
       "    <tr>\n",
       "      <th>16</th>\n",
       "      <td>16_31.amc</td>\n",
       "      <td>0.950365</td>\n",
       "      <td>0.013546</td>\n",
       "      <td>1.166667</td>\n",
       "      <td>0.903193</td>\n",
       "    </tr>\n",
       "  </tbody>\n",
       "</table>\n",
       "</div>"
      ],
      "text/plain": [
       "   sample_unic_id  velocity  angular_vels  frequency    vel_sq\n",
       "22      32_02.amc  0.366344      0.008124   1.258333  0.134208\n",
       "21      32_01.amc  0.366344      0.008124   1.258333  0.134208\n",
       "38      49_01.amc  0.759248      0.013325   1.333333  0.576457\n",
       "2       05_01.amc  0.815678      0.012362   1.191667  0.665330\n",
       "3       06_01.amc  0.906153      0.013088   1.216667  0.821114\n",
       "39      55_04.amc  0.935304      0.015817   1.175000  0.874793\n",
       "15      16_15.amc  0.950365      0.013546   1.166667  0.903193\n",
       "18      16_58.amc  0.950365      0.013546   1.166667  0.903193\n",
       "13      16_32.amc  0.950365      0.013546   1.166667  0.903193\n",
       "16      16_31.amc  0.950365      0.013546   1.166667  0.903193"
      ]
     },
     "execution_count": 172,
     "metadata": {},
     "output_type": "execute_result"
    }
   ],
   "source": [
    "new_df = res_df.copy()\n",
    "new_df['vel_sq'] = new_df.velocity.apply(lambda x : x**2)\n",
    "new_df.head(10)"
   ]
  },
  {
   "cell_type": "code",
   "execution_count": 173,
   "id": "mechanical-ceremony",
   "metadata": {},
   "outputs": [],
   "source": [
    "y = new_df[['frequency']].to_numpy()\n",
    "X = new_df[['velocity', 'vel_sq']].to_numpy()\n",
    "X = X.reshape(X.shape[0],2)"
   ]
  },
  {
   "cell_type": "code",
   "execution_count": 174,
   "id": "angry-girlfriend",
   "metadata": {},
   "outputs": [],
   "source": [
    "i_todel = []\n",
    "for i in range(X.shape[0]):\n",
    "#     print(X[i])\n",
    "#     print(y[i])\n",
    "    if y[i] < 0.003:\n",
    "        i_todel.append(i)\n",
    "X_new = np.delete(X, i_todel, 0)\n",
    "X_new = X_new.reshape(X_new.shape[0], 2)\n",
    "y_new = np.delete(y, i_todel)\n",
    "y_new = y_new.reshape(y_new.shape[0], 1)"
   ]
  },
  {
   "cell_type": "code",
   "execution_count": 175,
   "id": "laden-signature",
   "metadata": {},
   "outputs": [],
   "source": [
    "scaler = StandardScaler()\n",
    "\n",
    "X = scaler.fit_transform(X_new)"
   ]
  },
  {
   "cell_type": "code",
   "execution_count": 176,
   "id": "intended-temperature",
   "metadata": {},
   "outputs": [],
   "source": [
    "X_train, X_test, y_train, y_test = train_test_split(X_new, y_new, test_size=0.3, random_state=2)"
   ]
  },
  {
   "cell_type": "code",
   "execution_count": 177,
   "id": "neutral-liability",
   "metadata": {},
   "outputs": [
    {
     "name": "stdout",
     "output_type": "stream",
     "text": [
      "test mse:  0.0017479090272867483\n",
      "r2 score:  0.8412550736255342\n"
     ]
    },
    {
     "data": {
      "text/plain": [
       "array([[ 0.06183637, -0.17868592]])"
      ]
     },
     "execution_count": 177,
     "metadata": {},
     "output_type": "execute_result"
    }
   ],
   "source": [
    "regressor = LinearRegression()\n",
    "\n",
    "regressor.fit(X_train, y_train)\n",
    "test_predictions = regressor.predict(X_test)\n",
    "\n",
    "print('test mse: ', mean_squared_error(y_test, test_predictions))\n",
    "print('r2 score: ', r2_score(y_test, test_predictions))\n",
    "regressor.coef_"
   ]
  },
  {
   "cell_type": "code",
   "execution_count": 183,
   "id": "sporting-confidentiality",
   "metadata": {},
   "outputs": [
    {
     "data": {
      "image/png": "[encoded data removed]",
      "text/plain": [
       "<Figure size 432x288 with 1 Axes>"
      ]
     },
     "metadata": {
      "needs_background": "light"
     },
     "output_type": "display_data"
    }
   ],
   "source": [
    "#Plot polinomial\n",
    "x_line = np.arange(0.15, 1.35, 0.02)\n",
    "y_line = regressor.coef_[0][0] * x_line + regressor.coef_[0][1]* x_line**2 + 1.27\n",
    "\n",
    "plt.plot(x_line, y_line, label = 'our model')\n",
    "plt.scatter(X_train[:,0], y_train, label ='train')\n",
    "plt.scatter(X_test[:,0], y_test, label ='test')\n",
    "plt.legend()\n",
    "plt.show()"
   ]
  },
  {
   "cell_type": "code",
   "execution_count": 184,
   "id": "hundred-victoria",
   "metadata": {},
   "outputs": [
    {
     "data": {
      "image/png": "[encoded data removed]",
      "text/plain": [
       "<Figure size 432x288 with 1 Axes>"
      ]
     },
     "metadata": {
      "needs_background": "light"
     },
     "output_type": "display_data"
    }
   ],
   "source": [
    "alphas = np.linspace(1, 10, 100)\n",
    "\n",
    "weights = np.empty((X.shape[1], 0))\n",
    "for alpha in alphas:\n",
    "    ridge_regressor = Ridge(alpha)\n",
    "    ridge_regressor.fit(X_train, y_train)\n",
    "    weights = np.hstack((weights, ridge_regressor.coef_.reshape(-1, 1)))\n",
    "plt.plot(alphas, weights.T)\n",
    "plt.xlabel('regularization coef')\n",
    "plt.ylabel('weight value')\n",
    "plt.show()"
   ]
  },
  {
   "cell_type": "code",
   "execution_count": 185,
   "id": "consistent-cruise",
   "metadata": {},
   "outputs": [
    {
     "data": {
      "text/plain": [
       "Ridge(alpha=0.1)"
      ]
     },
     "execution_count": 185,
     "metadata": {},
     "output_type": "execute_result"
    }
   ],
   "source": [
    "ridge_regressor = Ridge(0.1)\n",
    "ridge_regressor.fit(X_train, y_train)"
   ]
  },
  {
   "cell_type": "code",
   "execution_count": 186,
   "id": "naval-cleaners",
   "metadata": {},
   "outputs": [
    {
     "name": "stdout",
     "output_type": "stream",
     "text": [
      "test mse:  0.0017771455944602759\n",
      "r2 score:  0.8385998114631732\n"
     ]
    },
    {
     "data": {
      "text/plain": [
       "array([[ 0.06183637, -0.17868592]])"
      ]
     },
     "execution_count": 186,
     "metadata": {},
     "output_type": "execute_result"
    }
   ],
   "source": [
    "test_predictions = ridge_regressor.predict(X_test)\n",
    "print('test mse: ', mean_squared_error(y_test, test_predictions))\n",
    "print('r2 score: ', r2_score(y_test, test_predictions))\n",
    "regressor.coef_"
   ]
  },
  {
   "cell_type": "markdown",
   "id": "instrumental-relative",
   "metadata": {},
   "source": [
    "It was a bad idea to try ridge regularization..."
   ]
  },
  {
   "cell_type": "markdown",
   "id": "outdoor-smoke",
   "metadata": {},
   "source": [
    "Try crossvalidation on simple linear model"
   ]
  },
  {
   "cell_type": "code",
   "execution_count": 189,
   "id": "undefined-undergraduate",
   "metadata": {},
   "outputs": [
    {
     "data": {
      "text/plain": [
       "array([0.79724344, 0.92423397, 0.751884  ])"
      ]
     },
     "execution_count": 189,
     "metadata": {},
     "output_type": "execute_result"
    }
   ],
   "source": [
    "from sklearn.model_selection import cross_val_score\n",
    "scores = cross_val_score(regressor, X_train, y_train, scoring='r2', cv=3)\n",
    "scores "
   ]
  },
  {
   "cell_type": "markdown",
   "id": "united-lightweight",
   "metadata": {},
   "source": [
    "The best one is the linear model with scores 0.729 after cleaning thew data (We deleted around 3% of data as bad example)\n",
    "\n"
   ]
  },
  {
   "cell_type": "code",
   "execution_count": null,
   "id": "double-history",
   "metadata": {},
   "outputs": [],
   "source": []
  }
 ],
 "metadata": {
  "kernelspec": {
   "display_name": "Python 3",
   "language": "python",
   "name": "python3"
  },
  "language_info": {
   "codemirror_mode": {
    "name": "ipython",
    "version": 3
   },
   "file_extension": ".py",
   "mimetype": "text/x-python",
   "name": "python",
   "nbconvert_exporter": "python",
   "pygments_lexer": "ipython3",
   "version": "3.7.6"
  }
 },
 "nbformat": 4,
 "nbformat_minor": 5
}
